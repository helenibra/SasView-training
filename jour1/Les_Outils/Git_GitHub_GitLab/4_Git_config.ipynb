{
 "cells": [
  {
   "cell_type": "markdown",
   "id": "cd958b26-9954-46a8-a088-2978d903edb6",
   "metadata": {
    "slideshow": {
     "slide_type": "slide"
    },
    "tags": []
   },
   "source": [
    "# Améliorer sa configuration\n",
    "\n",
    "- Aliases\n",
    "- Stockage des identifiants pour les dépôts distants\n",
    "    - Authentification par https\n",
    "    - Authentification par clé ssh"
   ]
  },
  {
   "cell_type": "markdown",
   "id": "81f10e53-8d42-4138-9c11-4e6fca7c8b35",
   "metadata": {
    "slideshow": {
     "slide_type": "slide"
    },
    "tags": []
   },
   "source": [
    "## Aliases :\n",
    "\n",
    "### Créer un alias :\n",
    "\n",
    "- `git config --global alias.st 'status'`-> `git st`\n",
    "\n",
    "- `git config --global alias.cm 'commit -m'` -> `git cm \"commentaire\"`\n",
    "\n",
    "- `git config --global alias.co 'checkout'` -> `git co <commit>`\n",
    "\n",
    "- ..."
   ]
  },
  {
   "cell_type": "markdown",
   "id": "58f37960-c285-4aea-bfef-343adf75ab00",
   "metadata": {
    "slideshow": {
     "slide_type": "fragment"
    },
    "tags": []
   },
   "source": [
    "### Liste des alises définis\n",
    "\n",
    "- `git config --get-regexp alias`\n",
    "\n",
    "### Supprimer un alias :\n",
    "\n",
    "- `git config --global --unset alias.st` : supprimer l'alias `st`"
   ]
  },
  {
   "cell_type": "markdown",
   "id": "3eac84ab-87a1-41b2-bd5f-efb499330cb2",
   "metadata": {
    "slideshow": {
     "slide_type": "slide"
    },
    "tags": []
   },
   "source": [
    "## Travailler sur un serveur distant => authentifications pour HTTPS\n",
    "\n",
    "1. Stocker ses identifiants en dur et en clair en __local__ dans `.git/config` :\n",
    "    - `git clone https://<username>:<password>@github.com/<user>/<project>`\n",
    "2. Mettre à jour le `<remote>` existant __local__ dans `.git/config` :\n",
    "    - `git remote set-url <remote> https://<username>:<password>@github.com/<user>/<project>`\n",
    "3. Stocker ses identifiants en dur et en clair en global dans `~/.git-credentials` :\n",
    "    - Dans votre projet local > `git config credential.helper store` -> prochaine connexion enregistrée\n",
    "4. Stockage local limité à 15min par défaut : `git config --global credential.helper cache [--timeout <seconds>]`\n",
    "\n",
    "[Stockage des mots de passe pour le https](https://git-scm.com/book/fr/v2/Utilitaires-Git-Stockage-des-identifiants)"
   ]
  },
  {
   "cell_type": "markdown",
   "id": "631354d6-b629-4fd9-bee0-3d0265450403",
   "metadata": {
    "slideshow": {
     "slide_type": "subslide"
    },
    "tags": []
   },
   "source": [
    "## Travailler sur un serveur distant => authentifications par SSH\n",
    "\n",
    "Dans votre terminal local :\n",
    "- Générer la paire de `clés publique/privée` : `ssh-keygen`\n",
    "- Afficher la clé : `cat ~/.ssh/id_rsa.pub`\n",
    "- Copier la clé affichée\n",
    "\n",
    "Sur la forge distante, se rendre dans :\n",
    "\n",
    "- __GitLab__ : votre compte > Settings > SSH Keys > Coller > Add key\n",
    "- __Github__ : votre compte > Settings > SSH and GPG key > Coller > Add SSH key\n",
    "\n",
    "Dans votre terminal local :\n",
    "- `git clone git@https://gitlab.com/<user>/<project>` \n",
    "- `git clone git@https://github.com/<user>/<project>`\n"
   ]
  },
  {
   "cell_type": "markdown",
   "id": "6e61c935-3745-496f-8710-0bbd188aeaa6",
   "metadata": {
    "slideshow": {
     "slide_type": "slide"
    },
    "tags": []
   },
   "source": [
    "# Conclusion\n",
    "\n",
    "## Git\n",
    "\n",
    "- Libre / Efficace / local / distant / non linéaire (branches)\n",
    "- Pilier de la plupart des forges\n",
    "- Adapté pour toutes les sources !\n",
    "- N'est pas un outil de sauvegarde !\n",
    "- Ca se passe sous Linux ! -> shell git compatible (zsh)"
   ]
  },
  {
   "cell_type": "markdown",
   "id": "6f03f35a-3f87-4e96-874c-ae296cac6244",
   "metadata": {
    "slideshow": {
     "slide_type": "subslide"
    },
    "tags": []
   },
   "source": [
    "## Important :\n",
    "\n",
    "- Ne pas sous estimer l'importance des messages de commit\n",
    "- Dans un projet, on ne développe jamais sur master : Une branche master trop active pollue votre historique\n",
    "- Git évolue : \n",
    "    - checkout -> restore, switch\n",
    "    - master -> main"
   ]
  },
  {
   "cell_type": "markdown",
   "id": "0b73538b-0d47-42eb-8564-ec1bdc04ee13",
   "metadata": {
    "slideshow": {
     "slide_type": "subslide"
    },
    "tags": []
   },
   "source": [
    "## Reste à faire :\n",
    "\n",
    "- Book-marquer : [ProGit](https://git-scm.com/book/fr/v2)\n",
    "- Pratiquer, être curieux, acquérir de l'expérience...\n",
    "- Plein de fonctionnalités à découvrir :\n",
    "grep, cherry-pick, clean, gc, notes, sparse-checkout, stash...\n",
    "- Explorer les outils graphiques + plugins"
   ]
  }
 ],
 "metadata": {
  "kernelspec": {
   "display_name": "Python 3 (ipykernel)",
   "language": "python",
   "name": "python3"
  },
  "language_info": {
   "codemirror_mode": {
    "name": "ipython",
    "version": 3
   },
   "file_extension": ".py",
   "mimetype": "text/x-python",
   "name": "python",
   "nbconvert_exporter": "python",
   "pygments_lexer": "ipython3",
   "version": "3.8.12"
  }
 },
 "nbformat": 4,
 "nbformat_minor": 5
}
