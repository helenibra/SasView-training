{
 "cells": [
  {
   "cell_type": "markdown",
   "id": "4c3986e1-b380-4b4a-b7f9-aa5c213f62f0",
   "metadata": {
    "slideshow": {
     "slide_type": "slide"
    },
    "tags": []
   },
   "source": [
    "# Dépôt distant\n",
    "\n",
    "- Principes\n",
    "- Commandes\n",
    "- Exemple complet\n",
    "- Rebaser"
   ]
  },
  {
   "cell_type": "markdown",
   "id": "6dc9b6c6-8645-4f7c-9476-276950cf06cd",
   "metadata": {
    "slideshow": {
     "slide_type": "slide"
    },
    "tags": []
   },
   "source": [
    "## Principes :\n",
    "\n",
    "- Dépôts distants -> développement collaboratif (incontournable)\n",
    "- On pousse (`push`) ou on récupère (`fetch`/`pull`) des données entre les dépôts distants et locaux\n",
    "- Nécessité de savoir ajouter/effacer des dépôts distants, gérer des branches distantes..."
   ]
  },
  {
   "cell_type": "markdown",
   "id": "f6115b0f-5975-4ada-8798-e10603181fd5",
   "metadata": {
    "slideshow": {
     "slide_type": "fragment"
    },
    "tags": []
   },
   "source": [
    "1. Côté distant (serveur) : créer un dépôt distant (via terminal ou forge)\n",
    "\n",
    "2. Côté local (client) : initialiser une communication avec le serveur\n",
    "   - local -> distant : pousse mon dépôt local sur un dépôt distant vide\n",
    "   - distant -> local : clone en local un dépôt distant\n",
    "\n",
    "3. Echanger des données : dans les 2 sens, gestion des branches locales et distantes, fusionner, rebaser..."
   ]
  },
  {
   "cell_type": "markdown",
   "id": "283de91a-5e39-4a79-b024-651179305d93",
   "metadata": {
    "slideshow": {
     "slide_type": "subslide"
    },
    "tags": []
   },
   "source": [
    "### Initialiser la connexion avec le dépôt distant\n",
    "\n",
    "1. Côté distant (serveur) : créer un dépôt distant\n",
    "\n",
    "    - Terminal : `git init --bare --shared <depot_distant>`\n",
    "    - Forge : interface web\n",
    "\n",
    "2. Côté local (client) : Initialiser une communication avec le serveur\n",
    "\n",
    "    - local -> distant : pousse mon dépôt local sur un dépôt distant vide\n",
    "        - déjà fait : `git init` + `git add` + `git commit`\n",
    "        - Reste à définir l'adresse du dépôt distant : `git remote add <remote> <server>`\n",
    "    - distant -> local : clone en local un dépôt distant\n",
    "        - `git clone <server> [<myproject>]` où `<server>` =\n",
    "            - `https://github.com/<user>/<project>`\n",
    "            - `[ssh://]<user>@<host>[:<path>/<project>]`\n",
    "            - `git@https://github.com:<user>/<project>`\n",
    "        - <remote> est alors automatiquement défini et se nomme \"origin\" par défaut"
   ]
  },
  {
   "cell_type": "markdown",
   "id": "d1572a14-2439-478f-b176-0806fe22c2b5",
   "metadata": {
    "slideshow": {
     "slide_type": "subslide"
    },
    "tags": []
   },
   "source": [
    "### Echanger des données\n",
    "\n",
    "- Récupérer les données d'un dépôt distant __SANS__ intégration locale. Nous pourrons alors les fusionner manuellement  aux nôtres avec un merge. Préferer `fetch` à `pull` si on veut structurer son historique.\n",
    "    - `git fetch [<remote> <branch>]`\n",
    "    - `git fetch`\n",
    "    - `git fetch origin master`"
   ]
  },
  {
   "cell_type": "markdown",
   "id": "f6a0677e-885b-4edf-a1b2-cd57caec082c",
   "metadata": {
    "slideshow": {
     "slide_type": "fragment"
    },
    "tags": []
   },
   "source": [
    "- Récupérer les données d'un dépôt distant __AVEC__ intégration locale par création de commit (`pull` = `fetch` + `merge`). Préférer `fetch` à `pull` si on veut structurer son histoire\n",
    "\n",
    "   - `git pull [<remote> <branch>]`\n",
    "   - `git pull` : \n",
    "   - `git pull origin master` : "
   ]
  },
  {
   "cell_type": "markdown",
   "id": "1034100f-cc18-4786-82e6-67ec381ba316",
   "metadata": {
    "slideshow": {
     "slide_type": "fragment"
    },
    "tags": []
   },
   "source": [
    "- Envoyer les données locales à distance par création de commit `-u` pour la création de branche distante\n",
    "    - `git push [-u] [<remote> <branch>]`\n",
    "    - `git push`\n",
    "    - `git push -u origin master`"
   ]
  }
 ],
 "metadata": {
  "kernelspec": {
   "display_name": "Python 3 (ipykernel)",
   "language": "python",
   "name": "python3"
  },
  "language_info": {
   "codemirror_mode": {
    "name": "ipython",
    "version": 3
   },
   "file_extension": ".py",
   "mimetype": "text/x-python",
   "name": "python",
   "nbconvert_exporter": "python",
   "pygments_lexer": "ipython3",
   "version": "3.8.12"
  }
 },
 "nbformat": 4,
 "nbformat_minor": 5
}
