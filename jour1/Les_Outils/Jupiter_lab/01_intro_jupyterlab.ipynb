{
 "cells": [
  {
   "cell_type": "markdown",
   "metadata": {
    "slideshow": {
     "slide_type": "slide"
    },
    "tags": []
   },
   "source": [
    "# Introduction Jupyter Lab\n",
    "\n",
    "- installation (Windows/Linux)\n",
    "- présentation de l’interface\n",
    "- extensions utiles\n",
    "- langages de programmation pris en charge"
   ]
  },
  {
   "cell_type": "markdown",
   "metadata": {
    "slideshow": {
     "slide_type": "slide"
    },
    "tags": []
   },
   "source": [
    "## Installation (windows - linux - OSx)\n",
    "\n",
    "Pour utiliser JupyterLab, un bon départ est l'utilisation d'un environnement dédié de Miniconda !\n",
    "\n",
    "[Miniconda](https://docs.conda.io/en/latest/miniconda.html)\n",
    "\n",
    "Classiquement, je l'installe pour l'ensemble des utilisateurs. Créer un environnement dédié permet d'installer un certain nombre de module dédié aux analyses de données de projet ou comme ici, pour le cadre d'une formation.\n",
    "\n",
    "[Managing Environnements](https://docs.conda.io/projects/conda/en/latest/user-guide/tasks/manage-environments.html)"
   ]
  },
  {
   "cell_type": "markdown",
   "metadata": {
    "slideshow": {
     "slide_type": "subslide"
    },
    "tags": []
   },
   "source": [
    "Dans mon cas, j'ai installé miniconda au chemin suivant :\n",
    "\n",
    "`C:\\Users\\formation\\Miniconda3`\n",
    "\n",
    "J'ai ensuite créé un environnement __formation_urfist__ depuis un _Anaconda Prompt(miniconda3)_ ou _Anaconda Powershell Prompt(miniconda3)_ avec la commande suivante :\n",
    "\n",
    "`conda create -p C:\\Users\\formation\\Miniconda3\\envs\\formation_urfist python jupyterlab nodejs`"
   ]
  },
  {
   "cell_type": "markdown",
   "metadata": {},
   "source": [
    "Jupyter Lab se repose sur beaucoup d'extension en JavaScript d'où l'installation de nodejs !"
   ]
  },
  {
   "cell_type": "markdown",
   "metadata": {},
   "source": [
    "## Présentation de l'interface"
   ]
  },
  {
   "cell_type": "markdown",
   "metadata": {},
   "source": [
    "Les **notebooks** sont de plus en plus utilisés en science des données pour explorer et analyser des données.    \n",
    "De par leur nature interactive, les notebooks constituent un excellent outil d'apprentissage et de développement informatique. Dans cet environnement, un programme peut être développé pas à pas, et l'auteur reçoit immédiatement un retour précieux à chaque étape. Ils permettent généralement de combiner texte, graphiques, images, vidéos, etc. avec du code.     \n",
    "Puisqu'ils contiennent non seulement la description de l'étude (comme un article classique), mais aussi le code informatique complet qui produit les résultats. Un notebook englobe l'ensemble des informations clés d'une recherche.\n",
    "Les notebooks offrent ainsi une excellente reproductibilité et facilitent la ré-utilisation des études. \n",
    "Dans le monde Python, le projet Notebook a fait son entrée avec la version 0.12 de IPython (2011). Il a depuis bénéficié de nombreuses améliorations et a gagné en popularité. La version IPython 4.0 (actuellement version 7.9) marque le début d’un nouveau projet appelé Jupyter (pour Julia, Python, R).     \n",
    "En 2014, la communauté de développement décide de scinder le projet IPython en deux :   \n",
    "\n",
    "- la partie spécifique au langage Python reste dans le projet IPython ;    \n",
    "- la partie indépendante du langage passe dans un nouveau projet nommé Jupyter.    \n",
    "\n",
    "Le notebook Jupyter est une généralisation de la version IPython, qui peut être aujourd'hui utilisé comme un cahier pour une grande variété de languages différents (plus de 40!), dont Python bien évidemment.    \n",
    "Depuis 2018, c'est plus qu'un cahier, c'est un laboratoire : jupyter lab. Jupyter notebook et Jupyter lab cohabite aujourd'hui. Je vous laisse découvrir la documentation sur jupyter notebook ci-dessous.    \n",
    "Pour exécuter du code Python, le notebook Jupyter dialogue avec un noyau IPython (kernel).    \n",
    "Jupyter est une application serveur qui regroupe plusieurs fonctionnalités :    \n",
    "\n",
    "- **Un gestionnaire de fichiers**   \n",
    "Une fois l'application serveur Jupyter lancée, vous pouvez y accéder par un navigateur web. La page principale présente la racine du dossier depuis lequel le serveur a été lancé. Vous pouvez alors naviguer dans l'arborescence de vos dossiers, créer, renommer, supprimer des dossiers ou des fichiers, ouvrir un fichier texte (avec l'éditeur de texte - voir ci-après), un notebook (avec l'éditeur de notebook - voir ci-après), lancer un terminal, téléverser ou télécharger des fichiers, ... \n",
    "\n",
    "- **Un éditeur de texte**\n",
    "L'éditeur de texte permet de lire, créer, modifier n'importe quel fichier de texte au format utf-8. Les fichiers dont le nom possède une extension ad hoc (par exemple .py pour les fichiers Python) bénéficieront automatiquement d'une colorisation syntaxique. Sinon, il faut passer par le menu Language pour obtenir cette colorisation. \n",
    "\n",
    "- **Un éditeur de notebook**\n",
    "Les notebooks sont des documents multimédia interactifs. Cela signifie que vous pouvez non seulement y insérer des textes, des graphiques, des expressions mathématiques, des images (voire des animations ou des vidéos), mais vous pouvez également écrire et exécuter du code Python (ou autre). Si vous avez des documents à écrire vous pouvez les écrire dans ce format plutôt que d'utiliser un traitement de texte classique. "
   ]
  },
  {
   "cell_type": "markdown",
   "metadata": {},
   "source": [
    "\n",
    "Jupyter Lab est une interface dans un navigateur web qui intègre l'éditeur **jupyter notebook**. Pour exploiter cette interface, nous n'hésiterons pas à utiliser le raccourci **F11** pour réduire la barre de recherche. L'interface sans configuration ressemble à celle-ci :"
   ]
  },
  {
   "cell_type": "markdown",
   "metadata": {},
   "source": [
    "<center>\n",
    "<img src=\"./images/jupyterlab_base.PNG\"  style=\"width:50%;\"/>\n",
    "</center>"
   ]
  },
  {
   "cell_type": "markdown",
   "metadata": {},
   "source": [
    "Comment peut-on la lancer ? Deux options s'offrent à vous :\n",
    "\n",
    "- Option 1 :\n",
    "  - Ouvrir un Anaconda Prompt\n",
    "  - activer l'environnement _formation_urfist_\n",
    "  - Déplacez vous dans le répertoire de votre choix\n",
    "  - lancer la commande **jupyter lab**\n",
    "\n",
    "- Option 2 :\n",
    "  - Créer un raccourci sur le bureau d'un Anaconda Powershell Prompt\n",
    "  - Modifier l'activation de l'environnement afin qu'il corresponde à celui de _formation_urfist_\n",
    "  - Modifier le paramètre _Demarrer dans :_ de _%HOMEPATH%_ par %pwd%\n",
    "  - Modifier l'icône : %USERPROFILE%\\Miniconda3\\pkgs\\notebook-6.0.3-py38_0\\Lib\\site-packages\\notebook\\static\\favicon.ico\n",
    "  - Vous pouvez placer ce raccourci dans n'importe quel dossier !"
   ]
  },
  {
   "cell_type": "markdown",
   "metadata": {},
   "source": [
    "<center>\n",
    "<img src=\"./images/extension_manager.PNG\"  style=\"width:50%;\"/>\n",
    "</center>"
   ]
  },
  {
   "cell_type": "markdown",
   "metadata": {},
   "source": [
    "## extensions utiles\n",
    "\n",
    "Le gestionnaire d'extension est la première étape pour paramétrer cette interface !"
   ]
  },
  {
   "cell_type": "markdown",
   "metadata": {},
   "source": [
    "<center>\n",
    "<img src=\"./images/add_extension.PNG\"  style=\"width:50%;\"/>\n",
    "</center>"
   ]
  },
  {
   "cell_type": "markdown",
   "metadata": {},
   "source": [
    "Vous le savez sûrement, l'université de Bordeaux mets à disposition un GitLab : https://gitub.u-bordeaux.fr/\n",
    "\n",
    "C'est alors intéressant d'ajouter l'extension aux dépôts Git. Il faudra bien sûr installer [Git pour windows](https://gitforwindows.org/).\n",
    "\n",
    "Puis quelques extensions que je trouve intéressantes :\n",
    "\n",
    "- latex\n",
    "- toc (table of contents)\n",
    "- julia file\n",
    "- drawio\n",
    "- gitlab\n",
    "- python file\n",
    "- spreadsheet\n",
    "- email\n",
    "- go to definition\n",
    "- nbdime"
   ]
  },
  {
   "cell_type": "markdown",
   "metadata": {},
   "source": [
    "## langages de programmation pris en charge\n",
    "\n",
    "Nous parlons de [jupyter-kernels !](https://github.com/jupyter/jupyter/wiki/Jupyter-kernels)\n",
    "\n",
    "Mes préférés :\n",
    "\n",
    "- R\n",
    "- Julia\n",
    "- Bash\n",
    "- PowerShell\n",
    "- VPython\n",
    "- JavaScript"
   ]
  },
  {
   "cell_type": "markdown",
   "metadata": {},
   "source": [
    "Poursuivons sur [la programmation](./02_programmation.ipynb)"
   ]
  }
 ],
 "metadata": {
  "kernelspec": {
   "display_name": "Python 3 (ipykernel)",
   "language": "python",
   "name": "python3"
  },
  "language_info": {
   "codemirror_mode": {
    "name": "ipython",
    "version": 3
   },
   "file_extension": ".py",
   "mimetype": "text/x-python",
   "name": "python",
   "nbconvert_exporter": "python",
   "pygments_lexer": "ipython3",
   "version": "3.9.7"
  }
 },
 "nbformat": 4,
 "nbformat_minor": 4
}
