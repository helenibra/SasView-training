{
 "cells": [
  {
   "cell_type": "markdown",
   "metadata": {},
   "source": [
    "# Calcul scientifique avec Python\n",
    "\n",
    "<img src=\"images/matplotlib_numpy_scipy.png\">"
   ]
  },
  {
   "cell_type": "markdown",
   "metadata": {},
   "source": [
    "<img src=\"images/python_numpy.png\">"
   ]
  },
  {
   "cell_type": "code",
   "execution_count": null,
   "metadata": {
    "scrolled": true,
    "tags": []
   },
   "outputs": [],
   "source": [
    "import numpy as np\n",
    "%load_ext memory_profiler"
   ]
  },
  {
   "cell_type": "code",
   "execution_count": null,
   "metadata": {},
   "outputs": [],
   "source": [
    "%conda install memory_profiler"
   ]
  },
  {
   "cell_type": "markdown",
   "metadata": {},
   "source": [
    "# Introduction\n",
    "\n",
    "## Création d'un conteneur de 10 000 000 de valeurs et incrémentation"
   ]
  },
  {
   "cell_type": "code",
   "execution_count": null,
   "metadata": {},
   "outputs": [],
   "source": [
    "liste1 = range(10000000)\n",
    "liste2 = [i+1 for i in liste1]"
   ]
  },
  {
   "cell_type": "code",
   "execution_count": null,
   "metadata": {},
   "outputs": [],
   "source": [
    "liste1 = range(10000000)\n",
    "liste2 = map(lambda i: i+1, liste1)"
   ]
  },
  {
   "cell_type": "code",
   "execution_count": null,
   "metadata": {},
   "outputs": [],
   "source": [
    "tableau1 = np.arange(10000000)\n",
    "tableau2 = tableau1 + 1"
   ]
  },
  {
   "cell_type": "markdown",
   "metadata": {},
   "source": [
    "## Quelle solution choisir ?\n",
    "\n",
    "Pour le déceler, nous allons utiliser des commandes magiques de ipython `%lsmagic` pour toutes les connaîtres ou presque ;)\n",
    "\n",
    "un seul `%` n'applique la commande que sur une seule ligne\n",
    "un double `%%` applique la commande sur la cellule entière\n",
    "\n",
    "Nous utiliserons les commandes :\n",
    " - `%%time` : pour connaître le temps d'une seule exécution de la cellule\n",
    " - `%%timeit` : pour connaître le temps moyen et sa variabilité de l'exécution de la cellule\n",
    " - `%%memit` : pour conaître l'emprise mémoire"
   ]
  },
  {
   "cell_type": "markdown",
   "metadata": {},
   "source": [
    "### Programmation basique"
   ]
  },
  {
   "cell_type": "code",
   "execution_count": null,
   "metadata": {},
   "outputs": [],
   "source": [
    "%%time\n",
    "liste1 = range(10000000)\n",
    "liste2 = [i+1 for i in liste1]"
   ]
  },
  {
   "cell_type": "code",
   "execution_count": null,
   "metadata": {},
   "outputs": [],
   "source": [
    "%%timeit\n",
    "liste1 = range(10000000)\n",
    "liste2 = [i+1 for i in liste1]"
   ]
  },
  {
   "cell_type": "code",
   "execution_count": null,
   "metadata": {},
   "outputs": [],
   "source": [
    "%memit\n",
    "liste1 = range(10000000)\n",
    "liste2 = [i+1 for i in liste1]"
   ]
  },
  {
   "cell_type": "markdown",
   "metadata": {},
   "source": [
    "### Fonctions avancées"
   ]
  },
  {
   "cell_type": "code",
   "execution_count": null,
   "metadata": {},
   "outputs": [],
   "source": [
    "%%timeit\n",
    "liste1 = range(10000000)\n",
    "liste2 = map(lambda i: i+1, liste1)"
   ]
  },
  {
   "cell_type": "code",
   "execution_count": null,
   "metadata": {},
   "outputs": [],
   "source": [
    "%%memit\n",
    "liste1 = range(10000000)\n",
    "liste2 = map(lambda i: i+1, liste1)"
   ]
  },
  {
   "cell_type": "markdown",
   "metadata": {},
   "source": [
    "### Numpy"
   ]
  },
  {
   "cell_type": "code",
   "execution_count": null,
   "metadata": {},
   "outputs": [],
   "source": [
    "%%timeit\n",
    "tableau1 = np.arange(10000000)\n",
    "tableau2 = tableau1 + 1"
   ]
  },
  {
   "cell_type": "code",
   "execution_count": null,
   "metadata": {},
   "outputs": [],
   "source": [
    "%%memit\n",
    "tableau1 = np.arange(10000000)\n",
    "tableau2 = tableau1 + 1"
   ]
  },
  {
   "cell_type": "markdown",
   "metadata": {},
   "source": [
    "# Manipulation des données\n",
    "\n",
    "Prenons l'exemple du calcul d'une norme\n",
    "<center>\n",
    "$cst1 = 3$<br/>\n",
    "$cst2 = 4$<br/>\n",
    "$\\sqrt{cst1 + cst2} = 5$\n",
    "<\\center>"
   ]
  },
  {
   "cell_type": "code",
   "execution_count": null,
   "metadata": {},
   "outputs": [],
   "source": [
    "import math\n",
    "\n",
    "cst1 = 3; cst2 = 4\n",
    "math.sqrt(cst1**2 + cst2**2)"
   ]
  },
  {
   "cell_type": "markdown",
   "metadata": {},
   "source": [
    "## Peut-on travailler directement sur un conteneur Numpy"
   ]
  },
  {
   "cell_type": "code",
   "execution_count": null,
   "metadata": {},
   "outputs": [],
   "source": [
    "# un autre exemple de calcul de norme\n",
    "cst1 = 10**10\n",
    "cst2 = 10**10\n",
    "math.sqrt(cst1**2 + cst2**2)"
   ]
  },
  {
   "cell_type": "markdown",
   "metadata": {},
   "source": [
    "## Le module `Scipy`"
   ]
  },
  {
   "cell_type": "code",
   "execution_count": null,
   "metadata": {},
   "outputs": [],
   "source": [
    "from scipy import linalg\n",
    "\n",
    "mat_np = np.array([cst1, cst2])\n",
    "linalg.norm(mat_np, 2)"
   ]
  },
  {
   "cell_type": "markdown",
   "metadata": {},
   "source": [
    "# Les sous-modules du modules Scipy"
   ]
  },
  {
   "cell_type": "code",
   "execution_count": 1,
   "metadata": {
    "jupyter": {
     "source_hidden": true
    },
    "tags": []
   },
   "outputs": [
    {
     "data": {
      "text/html": [
       "<iframe width='100%' height='350' src=\"https://docs.scipy.org/doc/scipy/reference/tutorial/index.html\"></iframe>\n"
      ],
      "text/plain": [
       "<IPython.core.display.HTML object>"
      ]
     },
     "metadata": {},
     "output_type": "display_data"
    }
   ],
   "source": [
    "%%html\n",
    "<iframe width='100%' height='350' src=\"https://docs.scipy.org/doc/scipy/reference/tutorial/index.html\"></iframe>"
   ]
  },
  {
   "cell_type": "markdown",
   "metadata": {},
   "source": [
    "# Qu'est ce que Numpy ?\n",
    "\n",
    "- Historique :\n",
    "    - 1995 : Initialement `Numeric`\n",
    "    - 2006 : NUmpy remplace `Numeric`\n",
    "    => Développé par : Travis Oliphant\n",
    "- Module Python pour manipuler des tableaux et matrices\n",
    "- Contient des routines numpy :\n",
    "    - Création de tableaux\n",
    "    - Manipulation de tableaux\n",
    "- Contient des sous-modules :\n",
    "    - fft\n",
    "    - random\n",
    "    - linalg\n",
    "    - ..."
   ]
  },
  {
   "cell_type": "markdown",
   "metadata": {},
   "source": [
    "# Qu'est ce que Scipy\n",
    "\n",
    "- Un ensemble de bibliothèques Python destinée au calcul scientifique. Il est basé sur Numpy.\n",
    "- Collection d'algorithme mathématiques\n",
    "- Objectif : proposer un environnement similaire à Matlab ou Scilab\n",
    "- Intégre les objets tableau et matrice du module Numpy"
   ]
  },
  {
   "cell_type": "markdown",
   "metadata": {},
   "source": [
    "# Aide sur les modules"
   ]
  },
  {
   "cell_type": "code",
   "execution_count": null,
   "metadata": {
    "scrolled": true,
    "tags": []
   },
   "outputs": [],
   "source": [
    "help(np.array)"
   ]
  },
  {
   "cell_type": "code",
   "execution_count": null,
   "metadata": {
    "scrolled": true,
    "tags": []
   },
   "outputs": [],
   "source": [
    "help(linalg)"
   ]
  },
  {
   "cell_type": "markdown",
   "metadata": {},
   "source": [
    "# Quelques commandes intéressantes\n",
    "## inspecter la liste des variables"
   ]
  },
  {
   "cell_type": "code",
   "execution_count": null,
   "metadata": {},
   "outputs": [],
   "source": [
    "whos"
   ]
  },
  {
   "cell_type": "markdown",
   "metadata": {},
   "source": [
    "## Vider l'espace de nom"
   ]
  },
  {
   "cell_type": "code",
   "execution_count": null,
   "metadata": {},
   "outputs": [],
   "source": [
    "%reset"
   ]
  },
  {
   "cell_type": "markdown",
   "metadata": {},
   "source": [
    "## permettre de disposer des graphiques au sein du notebook"
   ]
  },
  {
   "cell_type": "code",
   "execution_count": null,
   "metadata": {},
   "outputs": [],
   "source": [
    "%matplotlib inline"
   ]
  },
  {
   "cell_type": "markdown",
   "metadata": {},
   "source": [
    "## Ecrire puis exécuter un script depuis le notebook"
   ]
  },
  {
   "cell_type": "code",
   "execution_count": null,
   "metadata": {},
   "outputs": [],
   "source": [
    "%%writefile exemple.py\n",
    "#!/usr/bin/env/ python3\n",
    "# -*- coding: utf-8 -*-\n",
    "\"\"\"\n",
    "Created on %(date)s\n",
    "\n",
    "@author: %(username)s\n",
    "\"\"\"\n",
    "print('hello world')"
   ]
  },
  {
   "cell_type": "code",
   "execution_count": null,
   "metadata": {},
   "outputs": [],
   "source": [
    "%run exemple.py"
   ]
  },
  {
   "cell_type": "markdown",
   "metadata": {},
   "source": [
    "## l'aide de python et l'aide d'ipython est légèrement différente"
   ]
  },
  {
   "cell_type": "code",
   "execution_count": null,
   "metadata": {},
   "outputs": [],
   "source": [
    "# aide ipython\n",
    "len?"
   ]
  },
  {
   "cell_type": "code",
   "execution_count": null,
   "metadata": {},
   "outputs": [],
   "source": [
    "# aide python\n",
    "help(len)"
   ]
  },
  {
   "cell_type": "markdown",
   "metadata": {},
   "source": [
    "## les commandes shell\n",
    "\n",
    "Bien qu'on puisse tout faire en python, en ipython, nous pouvons utiliser les commandes shell préfixées du `!`"
   ]
  },
  {
   "cell_type": "code",
   "execution_count": null,
   "metadata": {},
   "outputs": [],
   "source": [
    "import sys\n",
    "\n",
    "if sys.platform.startswith('win'):\n",
    "    # sous Windows\n",
    "    !dir\n",
    "    print('-------------------')\n",
    "    !dir data\n",
    "    print('-------------------')\n",
    "    !echo %cd%\n",
    "else:\n",
    "    # sous Unix\n",
    "    !ls\n",
    "    print('-------------------')\n",
    "    !ls data\n",
    "    print('-------------------')\n",
    "    !pwd"
   ]
  },
  {
   "cell_type": "code",
   "execution_count": null,
   "metadata": {},
   "outputs": [],
   "source": [
    "# sous windows\n",
    "!type exemple.py\n",
    "\n",
    "# sous Unix\n",
    "# !cat exemple.py"
   ]
  },
  {
   "cell_type": "markdown",
   "metadata": {},
   "source": [
    "La liste complète peut être obtenu en demandant l'aide :smile:"
   ]
  },
  {
   "cell_type": "code",
   "execution_count": null,
   "metadata": {
    "scrolled": true,
    "tags": []
   },
   "outputs": [],
   "source": [
    "?"
   ]
  },
  {
   "cell_type": "markdown",
   "metadata": {},
   "source": [
    "## revenons aux commandes magiques\n",
    "afficher l'historique des commandes"
   ]
  },
  {
   "cell_type": "code",
   "execution_count": null,
   "metadata": {},
   "outputs": [],
   "source": [
    "%hist"
   ]
  },
  {
   "cell_type": "markdown",
   "metadata": {},
   "source": [
    "## afficher l'entrée de la cellule exécutée en numéro 2"
   ]
  },
  {
   "cell_type": "code",
   "execution_count": null,
   "metadata": {},
   "outputs": [],
   "source": [
    "_ih[14]"
   ]
  },
  {
   "cell_type": "code",
   "execution_count": null,
   "metadata": {
    "tags": []
   },
   "outputs": [],
   "source": [
    "print(In[14])"
   ]
  },
  {
   "cell_type": "code",
   "execution_count": null,
   "metadata": {},
   "outputs": [],
   "source": [
    "print(Out[14])"
   ]
  },
  {
   "cell_type": "code",
   "execution_count": 2,
   "metadata": {
    "jupyter": {
     "source_hidden": true
    },
    "tags": []
   },
   "outputs": [
    {
     "data": {
      "text/html": [
       "<iframe width='100%' height='350' src=\"https://jakevdp.github.io/PythonDataScienceHandbook/01.04-input-output-history.html\"></iframe>\n"
      ],
      "text/plain": [
       "<IPython.core.display.HTML object>"
      ]
     },
     "metadata": {},
     "output_type": "display_data"
    }
   ],
   "source": [
    "%%html\n",
    "<iframe width='100%' height='350' src=\"https://jakevdp.github.io/PythonDataScienceHandbook/01.04-input-output-history.html\"></iframe>"
   ]
  },
  {
   "cell_type": "markdown",
   "metadata": {
    "tags": []
   },
   "source": [
    "## un petit clin d'oeil à R\n",
    "\n",
    "[documentation](https://github.com/IRkernel/IRkernel)  \n",
    "Après une installation de classique de `R`puis  \n",
    "`conda install rpy2`  \n",
    "`conda install -c r r-irkernel`\n",
    "\n",
    "https://irkernel.github.io/installation/"
   ]
  },
  {
   "cell_type": "code",
   "execution_count": null,
   "metadata": {},
   "outputs": [],
   "source": [
    "%load_ext rpy2.ipython"
   ]
  },
  {
   "cell_type": "code",
   "execution_count": null,
   "metadata": {
    "scrolled": true,
    "tags": []
   },
   "outputs": [],
   "source": [
    "# installation à partir du module rpy2\n",
    "from rpy2.robjects.packages import importr\n",
    "utils = importr('utils')\n",
    "utils.install_packages('ggplot2', repos=\"https://cloud.r-project.org\")"
   ]
  },
  {
   "cell_type": "code",
   "execution_count": null,
   "metadata": {},
   "outputs": [],
   "source": [
    "%%R\n",
    "# dependencies\n",
    "library(ggplot2)\n",
    "library(tibble)\n",
    "\n",
    "# load data from files\n",
    "nt <- 5\n",
    "np <- 10\n",
    "res_red <- matrix(scan(\"./data/dice_res_red.txt\"), nrow=nt, byrow=TRUE)\n",
    "res_green <- matrix(scan(\"./data/dice_res_green.txt\"), nrow=nt, byrow=TRUE)\n",
    "res_blue <- matrix(scan(\"./data/dice_res_blue.txt\"), nrow=nt, byrow=TRUE)\n",
    "\n",
    "m.red <- round(apply(res_red, 2, mean), digits=1)\n",
    "m.green <- round(apply(res_green, 2, mean), digits=1)\n",
    "m.blue <- round(apply(res_blue, 2, mean), digits=1)\n",
    "\n",
    "set.seed(1)\n",
    "df <- tibble(obs = c(m.red, m.green, m.blue),\n",
    "             gp = factor(c(rep(\"Red\", np),\n",
    "                           rep(\"Green\", np),\n",
    "                           rep(\"Blue\", np)))\n",
    "             )\n",
    "\n",
    "# preserve factor order\n",
    "df$gp <- as.character(df$gp)\n",
    "df$gp <- factor(df$gp, levels=unique(df$gp))\n",
    "\n",
    "print(ggplot(df, aes(gp, obs)) + theme_linedraw() +\n",
    "      geom_point(aes(colour = gp), position = position_jitter(width = 0.1)) +\n",
    "        scale_color_manual(values=c(\"red\", \"green4\", \"blue\")) +\n",
    "        theme(legend.position = \"none\",\n",
    "      axis.text = element_text(size = 14),\n",
    "      axis.title = element_text(size = 16)) +\n",
    "        labs(x = \"Groups\", y = \"Observations\") +   \n",
    "        coord_cartesian(ylim = c(0, 12)) +\n",
    "        scale_y_continuous(breaks = seq(0, 12, 2)) +\n",
    "        geom_errorbar(stat = \"summary\", fun.y = mean, fun.ymin = mean,\n",
    "                      fun.ymax = mean, colour = \"grey\", width = .55, size = 3) +\n",
    "        geom_errorbar(stat = \"summary\", fun.y = mean, fun.ymin = mean,\n",
    "      fun.ymax = mean, colour = \"black\", width = .5, size = 1))"
   ]
  }
 ],
 "metadata": {
  "celltoolbar": "Visualize",
  "kernelspec": {
   "display_name": "Python 3 (ipykernel)",
   "language": "python",
   "name": "python3"
  },
  "language_info": {
   "codemirror_mode": {
    "name": "ipython",
    "version": 3
   },
   "file_extension": ".py",
   "mimetype": "text/x-python",
   "name": "python",
   "nbconvert_exporter": "python",
   "pygments_lexer": "ipython3",
   "version": "3.9.7"
  }
 },
 "nbformat": 4,
 "nbformat_minor": 4
}
