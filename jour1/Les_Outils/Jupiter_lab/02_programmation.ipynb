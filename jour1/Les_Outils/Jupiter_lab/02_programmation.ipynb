{
 "cells": [
  {
   "cell_type": "markdown",
   "metadata": {},
   "source": [
    "# Programmation et rédaction\n",
    "\n",
    "- manipulation des cellules\n",
    "- notions de la syntaxe Markdown\n",
    "- notions de la syntaxe LaTeX\n",
    "- notions HTML\n",
    "- insertions des liens dans le texte\n",
    "- insertion des tableaux\n",
    "- citation de codes\n",
    "- introspection du code (en fonction du langage)\n",
    "- fonctions magiques (en fonction du langage)\n",
    "- gestion des vues"
   ]
  },
  {
   "cell_type": "markdown",
   "metadata": {},
   "source": [
    "# Manipulation des cellules\n",
    "\n",
    "Une cellule peut être soit\n",
    "\n",
    "- Markdown\n",
    "- Code\n",
    "- Raw\n",
    "\n",
    "De base, une cellule se présente comme une cellule de code !"
   ]
  },
  {
   "cell_type": "markdown",
   "metadata": {},
   "source": [
    "Les cellules de code (repérables par le préfixe **In[]**) acceptent des instructions en langage Python - entre autre - qui peuvent être exécutées et dont la sortie apparait sous la cellule de code avec le préfixe **Out[]** (si le résultat de l'instruction n'est pas renvoyé dans une variable ou un print). "
   ]
  },
  {
   "cell_type": "markdown",
   "metadata": {},
   "source": [
    "### Application n°1 : une simple instruction\n",
    "\n",
    "Dans la 1ère cellule de votre notebook tapez l'instruction Python suivante :\n",
    "> print('bienvenue à la formation python pour le calcul scientifique')\n",
    "\n",
    "suivi de **Shift+Enter** pour exécuter le contenu de la cellule.\n",
    "=> Observez le résultat et notez que cela a créé automatiquement une nouvelle cellule à la suite."
   ]
  },
  {
   "cell_type": "markdown",
   "metadata": {},
   "source": [
    "### Application n°2 : un bloc d'instructions\n",
    "\n",
    "Une cellule de code accepte aussi bien une seule instruction, qu'un bloc d'instructions, qui doit bien entendu respecter les règles de codage du langage.   \n",
    "Dans une nouvelle cellule, écrivez une boucle qui incrémente de 1 un nombre et affiche sa valeur après chaque incrémentation, tant que ce nombre est inférieur à 10. Ce nombre sera initialisé à 0.   "
   ]
  },
  {
   "cell_type": "markdown",
   "metadata": {},
   "source": [
    "### Application n°3 : saisie au clavier\n",
    "\n",
    "On peut également interagir avec l'utilisateur. Saisissez le bloc d'instructions suivant dans une nouvelle cellule et exécutez-là.\n",
    "~~~python\n",
    "nom = input('Votre nom ? ')    \n",
    "age = float(input('Votre age ? '))  # génère une erreur si on saisit une chaîne     \n",
    "annee = int(input('Votre année de naissance ? '))  # génère une erreur si on saisit une chaîne ou un flottant\n",
    "~~~"
   ]
  },
  {
   "cell_type": "markdown",
   "metadata": {},
   "source": [
    "### Application n°4 : Ré-évaluer des cellules de code\n",
    "\n",
    "A la suite de votre notebook, dans une cellule de code tapez l'instruction suivante et exécutez la cellule :\n",
    "~~~python\n",
    "message_acceuil = f\"bonjour {nom}\"\n",
    "print(message_accueil)\n",
    "~~~"
   ]
  },
  {
   "cell_type": "markdown",
   "metadata": {},
   "source": [
    "Remarque :   \n",
    "Si vous obtenez le message suivant :\n",
    "\n",
    "<center>\n",
    "<img src=\"./images/nom_not_defined.png\"/>\n",
    "</center>"
   ]
  },
  {
   "cell_type": "markdown",
   "metadata": {},
   "source": [
    "Cela signifie que vous n'avez pas exécuté les lignes précédentes ou que vous avez rafraichi votre kernel : l'interpréteur ne connait plus la variable nom. Si l'exécution se passe bien (pas de message d'erreur et la chaîne référencée par la variable message_accueil s'affiche dans le notebook), vous noterez que tant que vous ne rafraichissez pas votre kernel, toutes les variables ou objets référencés sont gardés en mémoire.   \n",
    "Dans une nouvelle cellule de code, tapez maintenant l'instruction :   \n",
    "~~~python\n",
    "del nom\n",
    "~~~\n",
    "Et ré-exécutez la cellule de code de l'Application n°4. Que se passe-t-il ?   \n",
    "Ré-exécutez la cellule de code de l'Application n°3, puis n°4. Cela marche à nouveau.    \n",
    "=> Vous pouvez ré-évaluer des cellules de code déjà existantes mais **attention à bien évaluer les cellules dans l'ordre souhaité**    \n",
    "Si vous ne respectez pas l'ordre dans lequel les cellules de code doivent être exécutées, le résultat peut être inattendu. En fait, évaluer un programme sous forme de notebook revient à le découper en petits fragments, et si on exécute ces fragments dans le désordre, on obtient naturellement un programme différent."
   ]
  },
  {
   "cell_type": "markdown",
   "metadata": {},
   "source": [
    "## Notions de la syntaxe Markdown\n",
    "\n",
    "https://learnxinyminutes.com/docs/markdown/"
   ]
  },
  {
   "cell_type": "markdown",
   "metadata": {},
   "source": [
    "# This is an \\<h1>\n",
    "## This is an \\<h2>\n",
    "### This is an \\<h3>\n",
    "#### This is an \\<h4>\n",
    "##### This is an \\<h5>\n",
    "###### This is an \\<h6>"
   ]
  },
  {
   "cell_type": "markdown",
   "metadata": {},
   "source": [
    "*This text is in italics.*    \n",
    "_And so is this text._    \n",
    "\n",
    "**This text is in bold.**    \n",
    "__And so is this text.__    \n",
    "    \n",
    "***This text is in both.***    \n",
    "**_As is this!_**    \n",
    "*__And this!__*    \n",
    "\n",
    "~barré~ "
   ]
  },
  {
   "cell_type": "markdown",
   "metadata": {},
   "source": [
    "* Puce\n",
    "* Une autre puce\n",
    "\n",
    "or\n",
    "\n",
    "+ Puce\n",
    "+ Une puce de plus\n",
    "\n",
    "or\n",
    "\n",
    "- Puce\n",
    "- une dernière puce"
   ]
  },
  {
   "cell_type": "markdown",
   "metadata": {},
   "source": [
    "1. Puce une\n",
    "2. Puce deux\n",
    "3. Puce trois\n",
    "\n",
    "1. Puce quatre\n",
    "1. Puce cinq\n",
    "1. Puce six"
   ]
  },
  {
   "cell_type": "markdown",
   "metadata": {},
   "source": [
    "1. Puce une\n",
    "2. Puce deux\n",
    "3. Puce trois\n",
    "    * Sous puce\n",
    "    * Sous puce\n",
    "4. Puce quatre"
   ]
  },
  {
   "cell_type": "markdown",
   "metadata": {},
   "source": [
    "> Tout est bon dans le Python\n",
    "\n",
    "|| mon message douteux ||\n",
    "\n",
    "Interprétation de code si nous indentons de 4 espaces \n",
    "\n",
    "    print('toto')"
   ]
  },
  {
   "cell_type": "markdown",
   "metadata": {},
   "source": [
    "surligner une commande par exemple `print`"
   ]
  },
  {
   "cell_type": "markdown",
   "metadata": {},
   "source": [
    "***\n",
    "---\n",
    "- - -\n",
    "****************"
   ]
  },
  {
   "cell_type": "markdown",
   "metadata": {},
   "source": [
    "<christophe.halgand@u-bordeaux.fr>"
   ]
  },
  {
   "cell_type": "markdown",
   "metadata": {},
   "source": [
    "Ton ordinateur n'en peut plus ? Essaye ça\n",
    "<kbd>Win</kbd><kbd>;</kbd>"
   ]
  },
  {
   "cell_type": "markdown",
   "metadata": {},
   "source": [
    "## notions de la syntaxe LaTeX"
   ]
  },
  {
   "cell_type": "markdown",
   "metadata": {},
   "source": [
    "La fonction $f$ est définie par\n",
    "\\begin{equation}\n",
    "   f(x) = 0 \\iff x = 1\n",
    "\\end{equation}\n",
    "\n",
    "$\\overset{a}{X}$\n",
    "$\\underset{b}{X}$\n",
    "$\\overset{a}{\\underset{b}{X}}$"
   ]
  },
  {
   "cell_type": "markdown",
   "metadata": {},
   "source": [
    "$ x_{1,2} = \\frac{- b \\pm \\sqrt{\\Delta}}{2a} $"
   ]
  },
  {
   "cell_type": "markdown",
   "metadata": {},
   "source": [
    "## notions HTML"
   ]
  },
  {
   "cell_type": "markdown",
   "metadata": {},
   "source": [
    "<div class=\"alert alert-success\" role=\"alert\">\n",
    "  <h4><i class=\"icon fa fa-check\"></i> Web</h4>\n",
    "  <p>Django, TurboGears, Zope, Plone, ...</p>\n",
    "</div>\n",
    "<div class=\"alert alert-info\" role=\"alert\">\n",
    "  <h4><i class=\"icon fa fa-check\"></i> Représentation graphique (Data Science)</h4>\n",
    "  <p>gnuplot, matplotlib, VTK, pyqtGraph, ...</p>\n",
    "</div>\n",
    "<div class=\"alert alert-success\" role=\"alert\">\n",
    "  <h4><i class=\"icon fa fa-check\"></i> Calcul scientifique (Data Science)</h4>\n",
    "  <p>numpy, scipy, sage, ...</p>\n",
    "</div>\n",
    "<div class=\"alert alert-info\" role=\"alert\">\n",
    "  <h4><i class=\"icon fa fa-check\"></i>  UI (Data Science)</h4>\n",
    "  <p>Gtk, Qt, Tcl/Tk, WxWidgets, Kivy,...</p>\n",
    "</div>\n",
    "<div class=\"alert alert-success\" role=\"alert\">\n",
    "  <h4><i class=\"icon fa fa-check\"></i> Bases de données</h4>\n",
    "  <p>SQLite, MySQL, PostgrSQL, Oracle ...</p>\n",
    "</div>\n",
    "<div class=\"alert alert-info\" role=\"alert\">\n",
    "  <h4><i class=\"icon fa fa-check\"></i> Réseaux</h4>\n",
    "  <p>Socket, TwistedMatrix, PyRO, ...</p>\n",
    "</div>"
   ]
  },
  {
   "cell_type": "markdown",
   "metadata": {},
   "source": [
    "<div markdown=1 style=\"background-color:#FAFAD2; border-left:6px solid #F0E68C; padding:5px\">\n",
    "<li>Un nom de variable est une référence vers un objet, qui permet de le manipuler plus facilement.</li>\n",
    "<li>La variable ne contient pas la valeur de l'objet, mais seulement une référence vers cet objet.</li>\n",
    "</div>"
   ]
  },
  {
   "cell_type": "markdown",
   "metadata": {},
   "source": [
    "---"
   ]
  },
  {
   "cell_type": "markdown",
   "metadata": {},
   "source": [
    "<font color=blue>blue is blue</font>"
   ]
  },
  {
   "cell_type": "markdown",
   "metadata": {},
   "source": [
    "<div markdown=1 style=\"background-color:#f1f1f2; border-left:6px solid #40474b; padding:10px\">\n",
    "<h3>EXERCICE - Compréhensions de listes </h3>  \n",
    "\n",
    "Que retournent les compréhensions de listes suivantes ?\n",
    "</div>"
   ]
  },
  {
   "cell_type": "markdown",
   "metadata": {},
   "source": [
    "<!-- Nous pouvons utiliser des éléments HTML dans du markdown tel que les commentaires -->"
   ]
  },
  {
   "cell_type": "markdown",
   "metadata": {},
   "source": [
    "Je finis avec deux espaces.  \n",
    "\n",
    "c'est <br /> dessous !"
   ]
  },
  {
   "cell_type": "markdown",
   "metadata": {},
   "source": [
    "Boxes below without the 'x' are unchecked HTML checkboxes.\n",
    "- [ ] First task to complete.\n",
    "- [ ] Second task that needs done\n",
    "This checkbox below will be a checked HTML checkbox.\n",
    "- [x] This task has been completed"
   ]
  },
  {
   "cell_type": "markdown",
   "metadata": {},
   "source": [
    "## insertions des liens dans le texte"
   ]
  },
  {
   "cell_type": "markdown",
   "metadata": {},
   "source": [
    "La page de [Christophe Halgand](http://www.incia.u-bordeaux1.fr/spip.php?article189) n'est toujours pas à jour 😒"
   ]
  },
  {
   "cell_type": "markdown",
   "metadata": {},
   "source": [
    "## insertion des tableaux\n",
    "\n",
    "| This | is   |\n",
    "|------|------|\n",
    "|   a  | table|\n",
    "\n",
    "| Col1         | Col2     | Col3          |\n",
    "| :----------- | :------: | ------------: |\n",
    "| Left-aligned | Centered | Right-aligned |\n",
    "| blah         | blah     | blah          |\n",
    "\n",
    "Col 1 | Col2 | Col3\n",
    ":-- | :-: | --:\n",
    "Ugh this is so ugly | make it | stop"
   ]
  },
  {
   "cell_type": "markdown",
   "metadata": {},
   "source": [
    "## citation de codes"
   ]
  },
  {
   "cell_type": "markdown",
   "metadata": {},
   "source": [
    "- Citation de code Python\n",
    "\n",
    "```python\n",
    "print \"Hello World\"\n",
    "```\n",
    "\n",
    "- Citation de code JavaScript\n",
    "```javascript\n",
    "console.log(\"Hello World\")\n",
    "```"
   ]
  },
  {
   "cell_type": "markdown",
   "metadata": {},
   "source": [
    "## Exécuter des commandes shell\n",
    "En préfixant une commande d'un point d'exclamation ! vous pouvez exécuter toute commande système. Dans des cellules de code, testez les commandes suivantes :   \n",
    "~~~python\n",
    "!cd # affiche le chemin du répertoire courant (!pwd sous MAC ou Linux)\n",
    "!dir # liste le contenu du répertoire courant (!ls sous MAC ou Linux)\n",
    "!date # affiche la date système\n",
    "~~~\n",
    "On peut récupérer le contenu renvoyé par ces commandes en les assignant à des noms de variables.    \n",
    "Par exemple :   \n",
    "~~~python\n",
    "la_date = !date\n",
    "print(la_date)\n",
    "print(type(la_date))\n",
    "~~~\n",
    "L'objet retourné est un objet similaire à un objet List de chaînes de caractères (notez les crochets)"
   ]
  },
  {
   "cell_type": "markdown",
   "metadata": {},
   "source": [
    "## obtenir de l'aide\n",
    "Dans une cellule de code tapez l'une de 2 commandes suivantes et éxecutez la cellule :\n",
    "~~~python\n",
    "texte?\n",
    "%pinfo texte\n",
    "~~~"
   ]
  },
  {
   "cell_type": "markdown",
   "metadata": {},
   "source": [
    "## fonctions magiques (en fonction du langage)"
   ]
  },
  {
   "cell_type": "code",
   "execution_count": 1,
   "metadata": {},
   "outputs": [
    {
     "data": {
      "application/json": {
       "cell": {
        "!": "OSMagics",
        "HTML": "Other",
        "SVG": "Other",
        "bash": "Other",
        "capture": "ExecutionMagics",
        "debug": "ExecutionMagics",
        "file": "Other",
        "html": "DisplayMagics",
        "javascript": "DisplayMagics",
        "js": "DisplayMagics",
        "latex": "DisplayMagics",
        "markdown": "DisplayMagics",
        "perl": "Other",
        "prun": "ExecutionMagics",
        "pypy": "Other",
        "python": "Other",
        "python2": "Other",
        "python3": "Other",
        "ruby": "Other",
        "script": "ScriptMagics",
        "sh": "Other",
        "svg": "DisplayMagics",
        "sx": "OSMagics",
        "system": "OSMagics",
        "time": "ExecutionMagics",
        "timeit": "ExecutionMagics",
        "writefile": "OSMagics"
       },
       "line": {
        "alias": "OSMagics",
        "alias_magic": "BasicMagics",
        "autoawait": "AsyncMagics",
        "autocall": "AutoMagics",
        "automagic": "AutoMagics",
        "autosave": "KernelMagics",
        "bookmark": "OSMagics",
        "cat": "Other",
        "cd": "OSMagics",
        "clear": "KernelMagics",
        "colors": "BasicMagics",
        "conda": "PackagingMagics",
        "config": "ConfigMagics",
        "connect_info": "KernelMagics",
        "cp": "Other",
        "debug": "ExecutionMagics",
        "dhist": "OSMagics",
        "dirs": "OSMagics",
        "doctest_mode": "BasicMagics",
        "ed": "Other",
        "edit": "KernelMagics",
        "env": "OSMagics",
        "gui": "BasicMagics",
        "hist": "Other",
        "history": "HistoryMagics",
        "killbgscripts": "ScriptMagics",
        "ldir": "Other",
        "less": "KernelMagics",
        "lf": "Other",
        "lk": "Other",
        "ll": "Other",
        "load": "CodeMagics",
        "load_ext": "ExtensionMagics",
        "loadpy": "CodeMagics",
        "logoff": "LoggingMagics",
        "logon": "LoggingMagics",
        "logstart": "LoggingMagics",
        "logstate": "LoggingMagics",
        "logstop": "LoggingMagics",
        "ls": "Other",
        "lsmagic": "BasicMagics",
        "lx": "Other",
        "macro": "ExecutionMagics",
        "magic": "BasicMagics",
        "man": "KernelMagics",
        "matplotlib": "PylabMagics",
        "mkdir": "Other",
        "more": "KernelMagics",
        "mv": "Other",
        "notebook": "BasicMagics",
        "page": "BasicMagics",
        "pastebin": "CodeMagics",
        "pdb": "ExecutionMagics",
        "pdef": "NamespaceMagics",
        "pdoc": "NamespaceMagics",
        "pfile": "NamespaceMagics",
        "pinfo": "NamespaceMagics",
        "pinfo2": "NamespaceMagics",
        "pip": "PackagingMagics",
        "popd": "OSMagics",
        "pprint": "BasicMagics",
        "precision": "BasicMagics",
        "prun": "ExecutionMagics",
        "psearch": "NamespaceMagics",
        "psource": "NamespaceMagics",
        "pushd": "OSMagics",
        "pwd": "OSMagics",
        "pycat": "OSMagics",
        "pylab": "PylabMagics",
        "qtconsole": "KernelMagics",
        "quickref": "BasicMagics",
        "recall": "HistoryMagics",
        "rehashx": "OSMagics",
        "reload_ext": "ExtensionMagics",
        "rep": "Other",
        "rerun": "HistoryMagics",
        "reset": "NamespaceMagics",
        "reset_selective": "NamespaceMagics",
        "rm": "Other",
        "rmdir": "Other",
        "run": "ExecutionMagics",
        "save": "CodeMagics",
        "sc": "OSMagics",
        "set_env": "OSMagics",
        "store": "StoreMagics",
        "sx": "OSMagics",
        "system": "OSMagics",
        "tb": "ExecutionMagics",
        "time": "ExecutionMagics",
        "timeit": "ExecutionMagics",
        "unalias": "OSMagics",
        "unload_ext": "ExtensionMagics",
        "who": "NamespaceMagics",
        "who_ls": "NamespaceMagics",
        "whos": "NamespaceMagics",
        "xdel": "NamespaceMagics",
        "xmode": "BasicMagics"
       }
      },
      "text/plain": [
       "Available line magics:\n",
       "%alias  %alias_magic  %autoawait  %autocall  %automagic  %autosave  %bookmark  %cat  %cd  %clear  %colors  %conda  %config  %connect_info  %cp  %debug  %dhist  %dirs  %doctest_mode  %ed  %edit  %env  %gui  %hist  %history  %killbgscripts  %ldir  %less  %lf  %lk  %ll  %load  %load_ext  %loadpy  %logoff  %logon  %logstart  %logstate  %logstop  %ls  %lsmagic  %lx  %macro  %magic  %man  %matplotlib  %mkdir  %more  %mv  %notebook  %page  %pastebin  %pdb  %pdef  %pdoc  %pfile  %pinfo  %pinfo2  %pip  %popd  %pprint  %precision  %prun  %psearch  %psource  %pushd  %pwd  %pycat  %pylab  %qtconsole  %quickref  %recall  %rehashx  %reload_ext  %rep  %rerun  %reset  %reset_selective  %rm  %rmdir  %run  %save  %sc  %set_env  %store  %sx  %system  %tb  %time  %timeit  %unalias  %unload_ext  %who  %who_ls  %whos  %xdel  %xmode\n",
       "\n",
       "Available cell magics:\n",
       "%%!  %%HTML  %%SVG  %%bash  %%capture  %%debug  %%file  %%html  %%javascript  %%js  %%latex  %%markdown  %%perl  %%prun  %%pypy  %%python  %%python2  %%python3  %%ruby  %%script  %%sh  %%svg  %%sx  %%system  %%time  %%timeit  %%writefile\n",
       "\n",
       "Automagic is ON, % prefix IS NOT needed for line magics."
      ]
     },
     "execution_count": 1,
     "metadata": {},
     "output_type": "execute_result"
    }
   ],
   "source": [
    "%lsmagic"
   ]
  },
  {
   "cell_type": "markdown",
   "metadata": {},
   "source": [
    "On distingue des commandes magiques qui s'appliquent à une instruction et des commandes magiques qui s'appliquent à toute une cellule de code."
   ]
  },
  {
   "cell_type": "markdown",
   "metadata": {},
   "source": [
    "Pour obtenir de l'aide sur une commande magique : **%nom_commande?**    \n",
    "Par exemple : **%timeit?** : commande magique permettant d'évaluer le temps d'exécution d'une expression ou instruction Python."
   ]
  },
  {
   "cell_type": "markdown",
   "metadata": {},
   "source": [
    "### écrire dans un fichier\n",
    "Dans une cellule de code, tapez les instructions suivantes :     \n",
    "~~~python\n",
    "%%file hello.py\n",
    "un_message = \"Hello from Notebook\"\n",
    "print(un_message)\n",
    "~~~\n",
    "Dans une autre cellule, vérifiez que votre fichier hello.py a bien été créé (simplement à l'aide de la commande magique `%ls`) et affichez son contenu à l'aide de la commande système `cat` si vous travaillez sous MAC ou Linux sinon `type` sous Windows:\n",
    "~~~python\n",
    "%ls hello.py\n",
    "print(\"\\r\\nDisplay file Hello.py :\")\n",
    "print('-------------------------')\n",
    "!cat hello.py  # sous MAC ou Linux\n",
    "!type hello.py  # sous Windows\n",
    "~~~"
   ]
  },
  {
   "cell_type": "markdown",
   "metadata": {},
   "source": [
    "### exécuter un script\n",
    "Dans une cellule de code, tapez la commande `%run script.py`. Par exemple :\n",
    "~~~python\n",
    "%run Hello.py\n",
    "~~~\n",
    "Notez que les variables du script sont connues de l'interpréteur après exécution."
   ]
  },
  {
   "cell_type": "markdown",
   "metadata": {},
   "source": [
    "## introspection du code (en fonction du langage)"
   ]
  },
  {
   "cell_type": "code",
   "execution_count": 2,
   "metadata": {
    "scrolled": true
   },
   "outputs": [
    {
     "name": "stdout",
     "output_type": "stream",
     "text": [
      "Help on int object:\n",
      "\n",
      "class int(object)\n",
      " |  int([x]) -> integer\n",
      " |  int(x, base=10) -> integer\n",
      " |  \n",
      " |  Convert a number or string to an integer, or return 0 if no arguments\n",
      " |  are given.  If x is a number, return x.__int__().  For floating point\n",
      " |  numbers, this truncates towards zero.\n",
      " |  \n",
      " |  If x is not a number or if base is given, then x must be a string,\n",
      " |  bytes, or bytearray instance representing an integer literal in the\n",
      " |  given base.  The literal can be preceded by '+' or '-' and be surrounded\n",
      " |  by whitespace.  The base defaults to 10.  Valid bases are 0 and 2-36.\n",
      " |  Base 0 means to interpret the base from the string as an integer literal.\n",
      " |  >>> int('0b100', base=0)\n",
      " |  4\n",
      " |  \n",
      " |  Built-in subclasses:\n",
      " |      bool\n",
      " |  \n",
      " |  Methods defined here:\n",
      " |  \n",
      " |  __abs__(self, /)\n",
      " |      abs(self)\n",
      " |  \n",
      " |  __add__(self, value, /)\n",
      " |      Return self+value.\n",
      " |  \n",
      " |  __and__(self, value, /)\n",
      " |      Return self&value.\n",
      " |  \n",
      " |  __bool__(self, /)\n",
      " |      self != 0\n",
      " |  \n",
      " |  __ceil__(...)\n",
      " |      Ceiling of an Integral returns itself.\n",
      " |  \n",
      " |  __divmod__(self, value, /)\n",
      " |      Return divmod(self, value).\n",
      " |  \n",
      " |  __eq__(self, value, /)\n",
      " |      Return self==value.\n",
      " |  \n",
      " |  __float__(self, /)\n",
      " |      float(self)\n",
      " |  \n",
      " |  __floor__(...)\n",
      " |      Flooring an Integral returns itself.\n",
      " |  \n",
      " |  __floordiv__(self, value, /)\n",
      " |      Return self//value.\n",
      " |  \n",
      " |  __format__(self, format_spec, /)\n",
      " |      Default object formatter.\n",
      " |  \n",
      " |  __ge__(self, value, /)\n",
      " |      Return self>=value.\n",
      " |  \n",
      " |  __getattribute__(self, name, /)\n",
      " |      Return getattr(self, name).\n",
      " |  \n",
      " |  __getnewargs__(self, /)\n",
      " |  \n",
      " |  __gt__(self, value, /)\n",
      " |      Return self>value.\n",
      " |  \n",
      " |  __hash__(self, /)\n",
      " |      Return hash(self).\n",
      " |  \n",
      " |  __index__(self, /)\n",
      " |      Return self converted to an integer, if self is suitable for use as an index into a list.\n",
      " |  \n",
      " |  __int__(self, /)\n",
      " |      int(self)\n",
      " |  \n",
      " |  __invert__(self, /)\n",
      " |      ~self\n",
      " |  \n",
      " |  __le__(self, value, /)\n",
      " |      Return self<=value.\n",
      " |  \n",
      " |  __lshift__(self, value, /)\n",
      " |      Return self<<value.\n",
      " |  \n",
      " |  __lt__(self, value, /)\n",
      " |      Return self<value.\n",
      " |  \n",
      " |  __mod__(self, value, /)\n",
      " |      Return self%value.\n",
      " |  \n",
      " |  __mul__(self, value, /)\n",
      " |      Return self*value.\n",
      " |  \n",
      " |  __ne__(self, value, /)\n",
      " |      Return self!=value.\n",
      " |  \n",
      " |  __neg__(self, /)\n",
      " |      -self\n",
      " |  \n",
      " |  __or__(self, value, /)\n",
      " |      Return self|value.\n",
      " |  \n",
      " |  __pos__(self, /)\n",
      " |      +self\n",
      " |  \n",
      " |  __pow__(self, value, mod=None, /)\n",
      " |      Return pow(self, value, mod).\n",
      " |  \n",
      " |  __radd__(self, value, /)\n",
      " |      Return value+self.\n",
      " |  \n",
      " |  __rand__(self, value, /)\n",
      " |      Return value&self.\n",
      " |  \n",
      " |  __rdivmod__(self, value, /)\n",
      " |      Return divmod(value, self).\n",
      " |  \n",
      " |  __repr__(self, /)\n",
      " |      Return repr(self).\n",
      " |  \n",
      " |  __rfloordiv__(self, value, /)\n",
      " |      Return value//self.\n",
      " |  \n",
      " |  __rlshift__(self, value, /)\n",
      " |      Return value<<self.\n",
      " |  \n",
      " |  __rmod__(self, value, /)\n",
      " |      Return value%self.\n",
      " |  \n",
      " |  __rmul__(self, value, /)\n",
      " |      Return value*self.\n",
      " |  \n",
      " |  __ror__(self, value, /)\n",
      " |      Return value|self.\n",
      " |  \n",
      " |  __round__(...)\n",
      " |      Rounding an Integral returns itself.\n",
      " |      Rounding with an ndigits argument also returns an integer.\n",
      " |  \n",
      " |  __rpow__(self, value, mod=None, /)\n",
      " |      Return pow(value, self, mod).\n",
      " |  \n",
      " |  __rrshift__(self, value, /)\n",
      " |      Return value>>self.\n",
      " |  \n",
      " |  __rshift__(self, value, /)\n",
      " |      Return self>>value.\n",
      " |  \n",
      " |  __rsub__(self, value, /)\n",
      " |      Return value-self.\n",
      " |  \n",
      " |  __rtruediv__(self, value, /)\n",
      " |      Return value/self.\n",
      " |  \n",
      " |  __rxor__(self, value, /)\n",
      " |      Return value^self.\n",
      " |  \n",
      " |  __sizeof__(self, /)\n",
      " |      Returns size in memory, in bytes.\n",
      " |  \n",
      " |  __sub__(self, value, /)\n",
      " |      Return self-value.\n",
      " |  \n",
      " |  __truediv__(self, value, /)\n",
      " |      Return self/value.\n",
      " |  \n",
      " |  __trunc__(...)\n",
      " |      Truncating an Integral returns itself.\n",
      " |  \n",
      " |  __xor__(self, value, /)\n",
      " |      Return self^value.\n",
      " |  \n",
      " |  as_integer_ratio(self, /)\n",
      " |      Return integer ratio.\n",
      " |      \n",
      " |      Return a pair of integers, whose ratio is exactly equal to the original int\n",
      " |      and with a positive denominator.\n",
      " |      \n",
      " |      >>> (10).as_integer_ratio()\n",
      " |      (10, 1)\n",
      " |      >>> (-10).as_integer_ratio()\n",
      " |      (-10, 1)\n",
      " |      >>> (0).as_integer_ratio()\n",
      " |      (0, 1)\n",
      " |  \n",
      " |  bit_length(self, /)\n",
      " |      Number of bits necessary to represent self in binary.\n",
      " |      \n",
      " |      >>> bin(37)\n",
      " |      '0b100101'\n",
      " |      >>> (37).bit_length()\n",
      " |      6\n",
      " |  \n",
      " |  conjugate(...)\n",
      " |      Returns self, the complex conjugate of any int.\n",
      " |  \n",
      " |  to_bytes(self, /, length, byteorder, *, signed=False)\n",
      " |      Return an array of bytes representing an integer.\n",
      " |      \n",
      " |      length\n",
      " |        Length of bytes object to use.  An OverflowError is raised if the\n",
      " |        integer is not representable with the given number of bytes.\n",
      " |      byteorder\n",
      " |        The byte order used to represent the integer.  If byteorder is 'big',\n",
      " |        the most significant byte is at the beginning of the byte array.  If\n",
      " |        byteorder is 'little', the most significant byte is at the end of the\n",
      " |        byte array.  To request the native byte order of the host system, use\n",
      " |        `sys.byteorder' as the byte order value.\n",
      " |      signed\n",
      " |        Determines whether two's complement is used to represent the integer.\n",
      " |        If signed is False and a negative integer is given, an OverflowError\n",
      " |        is raised.\n",
      " |  \n",
      " |  ----------------------------------------------------------------------\n",
      " |  Class methods defined here:\n",
      " |  \n",
      " |  from_bytes(bytes, byteorder, *, signed=False) from builtins.type\n",
      " |      Return the integer represented by the given array of bytes.\n",
      " |      \n",
      " |      bytes\n",
      " |        Holds the array of bytes to convert.  The argument must either\n",
      " |        support the buffer protocol or be an iterable object producing bytes.\n",
      " |        Bytes and bytearray are examples of built-in objects that support the\n",
      " |        buffer protocol.\n",
      " |      byteorder\n",
      " |        The byte order used to represent the integer.  If byteorder is 'big',\n",
      " |        the most significant byte is at the beginning of the byte array.  If\n",
      " |        byteorder is 'little', the most significant byte is at the end of the\n",
      " |        byte array.  To request the native byte order of the host system, use\n",
      " |        `sys.byteorder' as the byte order value.\n",
      " |      signed\n",
      " |        Indicates whether two's complement is used to represent the integer.\n",
      " |  \n",
      " |  ----------------------------------------------------------------------\n",
      " |  Static methods defined here:\n",
      " |  \n",
      " |  __new__(*args, **kwargs) from builtins.type\n",
      " |      Create and return a new object.  See help(type) for accurate signature.\n",
      " |  \n",
      " |  ----------------------------------------------------------------------\n",
      " |  Data descriptors defined here:\n",
      " |  \n",
      " |  denominator\n",
      " |      the denominator of a rational number in lowest terms\n",
      " |  \n",
      " |  imag\n",
      " |      the imaginary part of a complex number\n",
      " |  \n",
      " |  numerator\n",
      " |      the numerator of a rational number in lowest terms\n",
      " |  \n",
      " |  real\n",
      " |      the real part of a complex number\n",
      "\n"
     ]
    }
   ],
   "source": [
    "help(2)"
   ]
  },
  {
   "cell_type": "code",
   "execution_count": 3,
   "metadata": {
    "scrolled": true
   },
   "outputs": [
    {
     "data": {
      "text/plain": [
       "['__abs__',\n",
       " '__add__',\n",
       " '__and__',\n",
       " '__bool__',\n",
       " '__ceil__',\n",
       " '__class__',\n",
       " '__delattr__',\n",
       " '__dir__',\n",
       " '__divmod__',\n",
       " '__doc__',\n",
       " '__eq__',\n",
       " '__float__',\n",
       " '__floor__',\n",
       " '__floordiv__',\n",
       " '__format__',\n",
       " '__ge__',\n",
       " '__getattribute__',\n",
       " '__getnewargs__',\n",
       " '__gt__',\n",
       " '__hash__',\n",
       " '__index__',\n",
       " '__init__',\n",
       " '__init_subclass__',\n",
       " '__int__',\n",
       " '__invert__',\n",
       " '__le__',\n",
       " '__lshift__',\n",
       " '__lt__',\n",
       " '__mod__',\n",
       " '__mul__',\n",
       " '__ne__',\n",
       " '__neg__',\n",
       " '__new__',\n",
       " '__or__',\n",
       " '__pos__',\n",
       " '__pow__',\n",
       " '__radd__',\n",
       " '__rand__',\n",
       " '__rdivmod__',\n",
       " '__reduce__',\n",
       " '__reduce_ex__',\n",
       " '__repr__',\n",
       " '__rfloordiv__',\n",
       " '__rlshift__',\n",
       " '__rmod__',\n",
       " '__rmul__',\n",
       " '__ror__',\n",
       " '__round__',\n",
       " '__rpow__',\n",
       " '__rrshift__',\n",
       " '__rshift__',\n",
       " '__rsub__',\n",
       " '__rtruediv__',\n",
       " '__rxor__',\n",
       " '__setattr__',\n",
       " '__sizeof__',\n",
       " '__str__',\n",
       " '__sub__',\n",
       " '__subclasshook__',\n",
       " '__truediv__',\n",
       " '__trunc__',\n",
       " '__xor__',\n",
       " 'as_integer_ratio',\n",
       " 'bit_length',\n",
       " 'conjugate',\n",
       " 'denominator',\n",
       " 'from_bytes',\n",
       " 'imag',\n",
       " 'numerator',\n",
       " 'real',\n",
       " 'to_bytes']"
      ]
     },
     "execution_count": 3,
     "metadata": {},
     "output_type": "execute_result"
    }
   ],
   "source": [
    "dir(2)"
   ]
  },
  {
   "cell_type": "markdown",
   "metadata": {},
   "source": [
    "tracer une courbe\n",
    "Nous n'avons pas encore abordé les bibliothèques de visualisation graphique (ici usage de module pyplot de la librairie matplotlib) mais cet exemple illustre l'intégration des graphiques matplotlib dans un notebook à l'aide de la commande magique %matplotlib inline. Copiez-collez le code ci-après dans une cellule de code et exécutez-la."
   ]
  },
  {
   "cell_type": "code",
   "execution_count": 4,
   "metadata": {},
   "outputs": [
    {
     "data": {
      "image/png": "[encoded data removed]",
      "text/plain": [
       "<Figure size 432x288 with 1 Axes>"
      ]
     },
     "metadata": {
      "needs_background": "light"
     },
     "output_type": "display_data"
    }
   ],
   "source": [
    "import matplotlib.pyplot as plt\n",
    "%matplotlib inline\n",
    "\n",
    "# données\n",
    "x = [1, -2, 5, 7, 4, 8]\n",
    "y = [4, 2, 3, 3, 2, 5]\n",
    "\n",
    "# tracé x = f(y) en points (fonction scatter)\n",
    "plt.scatter(x, y)\n",
    "plt.title('tracé de x = f(y)')\n",
    "plt.xlabel('x')\n",
    "plt.ylabel('y')\n",
    "plt.savefig(\"trace_x_fy.png\")\n",
    "plt.show()"
   ]
  },
  {
   "cell_type": "markdown",
   "metadata": {},
   "source": [
    "## gestion des vues"
   ]
  },
  {
   "cell_type": "code",
   "execution_count": 5,
   "metadata": {},
   "outputs": [],
   "source": [
    "%matplotlib ipympl"
   ]
  },
  {
   "cell_type": "code",
   "execution_count": 6,
   "metadata": {},
   "outputs": [
    {
     "data": {
      "application/vnd.jupyter.widget-view+json": {
       "model_id": "aeb3eac5e6aa4601b21411c1e98a2ca7",
       "version_major": 2,
       "version_minor": 0
      },
      "image/png": "[encoded data removed]",
      "text/plain": [
       "Canvas(toolbar=Toolbar(toolitems=[('Home', 'Reset original view', 'home', 'home'), ('Back', 'Back to previous …"
      ]
     },
     "metadata": {},
     "output_type": "display_data"
    }
   ],
   "source": [
    "import matplotlib.pyplot as plt\n",
    "import numpy as np\n",
    "\n",
    "plt.figure(1)\n",
    "plt.plot(np.sin(np.linspace(0, 20, 100)))\n",
    "plt.show()"
   ]
  },
  {
   "cell_type": "code",
   "execution_count": 7,
   "metadata": {},
   "outputs": [
    {
     "data": {
      "application/vnd.jupyter.widget-view+json": {
       "model_id": "bec70849075a47d5a7d2ccdeee6ac4db",
       "version_major": 2,
       "version_minor": 0
      },
      "image/png": "[encoded data removed]",
      "text/plain": [
       "Canvas(layout=Layout(max_width='800px'), toolbar=Toolbar(toolitems=[('Home', 'Reset original view', 'home', 'h…"
      ]
     },
     "metadata": {},
     "output_type": "display_data"
    }
   ],
   "source": [
    "from mpl_toolkits.mplot3d import axes3d\n",
    "\n",
    "fig = plt.figure()\n",
    "ax = fig.add_subplot(111, projection='3d')\n",
    "\n",
    "# Grab some test data.\n",
    "X, Y, Z = axes3d.get_test_data(0.05)\n",
    "\n",
    "# Plot a basic wireframe.\n",
    "ax.plot_wireframe(X, Y, Z, rstride=10, cstride=10)\n",
    "\n",
    "fig.canvas.layout.max_width = '800px'\n",
    "\n",
    "plt.show()"
   ]
  },
  {
   "cell_type": "markdown",
   "metadata": {},
   "source": [
    "Poursuivons sur [la partie multimédia](./03_multimedia.ipynb)"
   ]
  }
 ],
 "metadata": {
  "kernelspec": {
   "display_name": "Python 3 (ipykernel)",
   "language": "python",
   "name": "python3"
  },
  "language_info": {
   "codemirror_mode": {
    "name": "ipython",
    "version": 3
   },
   "file_extension": ".py",
   "mimetype": "text/x-python",
   "name": "python",
   "nbconvert_exporter": "python",
   "pygments_lexer": "ipython3",
   "version": "3.9.7"
  }
 },
 "nbformat": 4,
 "nbformat_minor": 4
}
