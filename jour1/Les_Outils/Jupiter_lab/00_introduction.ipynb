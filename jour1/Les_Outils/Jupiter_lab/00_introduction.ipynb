{
 "cells": [
  {
   "cell_type": "markdown",
   "metadata": {
    "slideshow": {
     "slide_type": "slide"
    }
   },
   "source": [
    "# Initiation à Jupyter Lab\n",
    "\n",
    "- Explorer\n",
    "- Analyser\n",
    "- Partager"
   ]
  },
  {
   "cell_type": "markdown",
   "metadata": {
    "slideshow": {
     "slide_type": "subslide"
    }
   },
   "source": [
    "## Plan\n",
    "\n",
    "- **Introduction Jupyter Lab** : \n",
    "  - installation (Windows/Linux)\n",
    "  - présentation de l’interface\n",
    "  - extensions utiles\n",
    "  - langages de programmation pris en charge"
   ]
  },
  {
   "cell_type": "markdown",
   "metadata": {
    "slideshow": {
     "slide_type": "subslide"
    },
    "tags": []
   },
   "source": [
    "- **Programmation et rédaction** : \n",
    "  - manipulation des cellules\n",
    "  - notions de la syntaxe Markdown\n",
    "  - notions de la syntaxe LaTeX\n",
    "  - notions HTML\n",
    "  - insertions des liens dans le texte\n",
    "  - insertion des tableaux\n",
    "  - citation de codes\n",
    "  - introspection du code (en fonction du langage)\n",
    "  - fonctions magiques (en fonction du langage)\n",
    "  - gestion des vues"
   ]
  },
  {
   "cell_type": "markdown",
   "metadata": {
    "slideshow": {
     "slide_type": "subslide"
    }
   },
   "source": [
    "- **Multimédias** :\n",
    "  - insertion d’images\n",
    "  - de vidéos\n",
    "  - de pages web\n",
    "- **Bibliographie** :\n",
    "  - citations et références\n",
    "- **Métadonnées** \n",
    "- **Publication et exportation** :\n",
    "  - formats disponibles\n",
    "  - l’outil nbconvert\n",
    "  - conversion en PDF\n",
    "  - conversion en diapositives"
   ]
  },
  {
   "cell_type": "markdown",
   "metadata": {
    "slideshow": {
     "slide_type": "subslide"
    }
   },
   "source": [
    "- **Remarques** :\n",
    "  - protégez par un mot de passe\n",
    "  - sécurité des Notebooks\n",
    "- **Know how!** questions réponses:\n",
    "  - versionner les Notebooks avec Git\n",
    "  - Jupyterhub\n",
    "  - JupyterLab\n",
    "  - questions diverses\n",
    "\n",
    "Toute la documentation sur:\n",
    "- jupyterlab est [ici](https://jupyter-notebook.readthedocs.io/en/latest/examples/Notebook/What%20is%20the%20Jupyter%20Notebook.html)\n",
    "- IPython est [ici](https://ipython.readthedocs.io/en/stable/interactive/index.html)"
   ]
  },
  {
   "cell_type": "markdown",
   "metadata": {},
   "source": [
    "Poursuivons sur [l'introduction à JupyterLab](./01_intro_jupyterlab.ipynb)"
   ]
  }
 ],
 "metadata": {
  "kernelspec": {
   "display_name": "Python 3 (ipykernel)",
   "language": "python",
   "name": "python3"
  },
  "language_info": {
   "codemirror_mode": {
    "name": "ipython",
    "version": 3
   },
   "file_extension": ".py",
   "mimetype": "text/x-python",
   "name": "python",
   "nbconvert_exporter": "python",
   "pygments_lexer": "ipython3",
   "version": "3.9.7"
  },
  "toc-autonumbering": false,
  "toc-showcode": false,
  "toc-showmarkdowntxt": true,
  "toc-showtags": false
 },
 "nbformat": 4,
 "nbformat_minor": 4
}
