{
 "cells": [
  {
   "cell_type": "markdown",
   "id": "042b7877-5b75-4722-baa6-89efae1be4cd",
   "metadata": {},
   "source": [
    "1 - Exploitons l'organisation des données\n",
    "=========================================\n",
    "\n",
    "Les données se trouvent dans le dossier _data/ALL_DATA_"
   ]
  },
  {
   "cell_type": "code",
   "execution_count": null,
   "id": "3569e378-fc5f-46db-96aa-c5fa298127eb",
   "metadata": {},
   "outputs": [],
   "source": [
    "!ls data/ALL_DATA"
   ]
  },
  {
   "cell_type": "markdown",
   "id": "c306272a-b455-4f1d-adc8-75ee736496dc",
   "metadata": {},
   "source": [
    "En informatique l'exécution d'un code se fait à partir d'un chemin de l'arborescence de notre OS nommé _Current Work Directory_\n",
    "\n",
    "Quel est le nôtre actuellement ?"
   ]
  },
  {
   "cell_type": "code",
   "execution_count": null,
   "id": "4365ba26-2a29-4109-85d3-72186799fd8b",
   "metadata": {},
   "outputs": [],
   "source": [
    "# A vous ! en Python cette fois !"
   ]
  },
  {
   "cell_type": "markdown",
   "id": "f2765220-3ff5-42e7-964c-c11687c0c4a7",
   "metadata": {},
   "source": [
    "Il est toujours intéressant de travailler en relatif car le code ne se retrouvera pas modifié si le dossier principal est déplacé au sein du PC ou sur un autre PC.\n",
    "\n",
    "Pour remonter dans l'arborescence lorsque nous spécifions un chemin, nous devons utiliser la notion des `.`"
   ]
  },
  {
   "cell_type": "code",
   "execution_count": null,
   "id": "043f3f1a-1bfe-4e2e-9082-20eb4906ee35",
   "metadata": {},
   "outputs": [],
   "source": [
    "!ls ../../data/ALL_DATA"
   ]
  },
  {
   "cell_type": "markdown",
   "id": "795ad953-972b-49c9-a901-acd9657d3bfa",
   "metadata": {},
   "source": [
    "Attribuer à la variable ALL_SUJETS, le résultat précédent et faites afficher le nombre de sujets, c'est à dire le nombre de dossier"
   ]
  },
  {
   "cell_type": "code",
   "execution_count": 2,
   "id": "dab0ad8e-c4d1-4ce8-828a-d179b9b2ab0d",
   "metadata": {},
   "outputs": [],
   "source": [
    "# à vous"
   ]
  },
  {
   "cell_type": "markdown",
   "id": "fff27b5c-7105-4668-ac35-e8619d761f36",
   "metadata": {},
   "source": [
    "Nous savons maintenant que le dossier _ALL_DATA_ dispose de 22 dossiers qui correspondent chacun à l'enregistrement des données d'un sujet.\n",
    "\n",
    "Regardons maintenant le contenu de ces répertoires. Prenons deux dossiers au hasard et faites afficher le nombre de fichier contenu dans chacun de ces répertoires."
   ]
  },
  {
   "cell_type": "code",
   "execution_count": null,
   "id": "73aeda6d-7e0a-4c52-891e-e11dd508ae2f",
   "metadata": {},
   "outputs": [],
   "source": [
    "# un dossier"
   ]
  },
  {
   "cell_type": "code",
   "execution_count": null,
   "id": "e1223de1-8897-474c-a4d1-f12a5e6a2d3f",
   "metadata": {},
   "outputs": [],
   "source": [
    "# un autre dossier"
   ]
  },
  {
   "cell_type": "markdown",
   "id": "d31e13aa-aebc-4f34-b2c4-febef925f84a",
   "metadata": {
    "tags": []
   },
   "source": [
    "Chaque dossier de sujet dispose de 20 fichiers json pour lesquels nous accédons à travers le titre à plusieurs informations :\n",
    "\n",
    "- _nom du sujet_\n",
    "- _type de contrôle_\n",
    "- _phase : entrainement ou test_\n",
    "- _fréquence de coupure_\n",
    "- _type de la poursuite_\n",
    "- _numéro de l'essai_"
   ]
  },
  {
   "cell_type": "markdown",
   "id": "3d136462-090b-4a7f-a759-20c209ab65f7",
   "metadata": {},
   "source": [
    "Allons plus loin en regardant le contenu d'un fichier"
   ]
  },
  {
   "cell_type": "code",
   "execution_count": null,
   "id": "74d79eaa-f07b-4e6b-ab98-8ce4ff087a57",
   "metadata": {},
   "outputs": [],
   "source": [
    "import json"
   ]
  },
  {
   "cell_type": "code",
   "execution_count": null,
   "id": "6367e5f5-8828-467e-bd5b-ae7b76b9ec23",
   "metadata": {},
   "outputs": [],
   "source": [
    "with open(r'../../data/ALL_DATA/sujet5/sujet5_pos_test_0.4_pe_17.json', 'r') as fnm:\n",
    "    contenu = json.load(fnm)"
   ]
  },
  {
   "cell_type": "code",
   "execution_count": null,
   "id": "c69aca1d-979e-4254-b376-419c8dffb535",
   "metadata": {},
   "outputs": [],
   "source": [
    "contenu.keys()"
   ]
  },
  {
   "cell_type": "markdown",
   "id": "72b478c6-a533-48ac-bcf8-a236250081fd",
   "metadata": {},
   "source": [
    "Chaque fichier est pourvu d'un certain nombre d'informations :\n",
    "\n",
    "- _pv_cond_ : contrôle position ou vitesse\n",
    "- _fb_err_ : erreur au cours du mouvement entre curseur et cible à suivre\n",
    "- _pos_ct_ : positions de la cible à suivre en pratique\n",
    "- _percent_err_ : erreur sur la trajectoire\n",
    "- _routine_time_ : timestamp au cours de l'expérience\n",
    "- _reco_data_ : données reconstruites depuis le capteur de force en pixels\n",
    "- _duree_essai_ : durée de l'essai\n",
    "- _force_level_ : force du sujet"
   ]
  },
  {
   "cell_type": "code",
   "execution_count": null,
   "id": "17fd5b23-a86f-4599-a11c-2a40b3138385",
   "metadata": {},
   "outputs": [],
   "source": [
    "# à quoi ressemble le contenu de 'pv_cond'"
   ]
  },
  {
   "cell_type": "code",
   "execution_count": null,
   "id": "552d3dd3-8616-411b-bcdd-1be1086676d1",
   "metadata": {
    "scrolled": true,
    "tags": []
   },
   "outputs": [],
   "source": [
    "# à quoi ressemble le contenu de 'fb_err'"
   ]
  },
  {
   "cell_type": "code",
   "execution_count": null,
   "id": "8a1c5e9b-6e10-4e3c-91ed-e1746285c783",
   "metadata": {
    "scrolled": true,
    "tags": []
   },
   "outputs": [],
   "source": [
    "# à quoi ressemble le contenu de 'pos_ct'"
   ]
  },
  {
   "cell_type": "code",
   "execution_count": null,
   "id": "7f12635e-40af-424b-9c84-f60f27e7e74c",
   "metadata": {},
   "outputs": [],
   "source": [
    "# combien de valeur avons-nous dans ce vecteur de position pos_ct ?"
   ]
  },
  {
   "cell_type": "code",
   "execution_count": null,
   "id": "c29efcfc-a826-423c-b01e-fa280f9c8fcf",
   "metadata": {},
   "outputs": [],
   "source": [
    "# à quoi ressemble le contenu de 'percent_err'"
   ]
  },
  {
   "cell_type": "code",
   "execution_count": null,
   "id": "cc902866-6bd9-4e49-af3b-d70006c330aa",
   "metadata": {
    "scrolled": true,
    "tags": []
   },
   "outputs": [],
   "source": [
    "# à quoi ressemble le contenu de 'routine_time'"
   ]
  },
  {
   "cell_type": "code",
   "execution_count": 3,
   "id": "15238792-1a6f-4e96-bad2-618061039380",
   "metadata": {},
   "outputs": [],
   "source": [
    "# Quelle est la durée de cet enregistrement ?"
   ]
  },
  {
   "cell_type": "markdown",
   "id": "d0fa71cb-4777-4987-abf0-fa64a5dabd4f",
   "metadata": {},
   "source": [
    "Continuons par observer ce vecteur temps. Affichez le vecteur \"routine_time\""
   ]
  },
  {
   "cell_type": "code",
   "execution_count": null,
   "id": "72cec7cb-30fe-43f4-a240-954b2d8e4be3",
   "metadata": {},
   "outputs": [],
   "source": [
    "# importation du module d'affichage de courbe"
   ]
  },
  {
   "cell_type": "code",
   "execution_count": null,
   "id": "7b89657f-6d30-4986-a08d-abe2c2509331",
   "metadata": {},
   "outputs": [],
   "source": [
    "# appelez la fonction d'affichage"
   ]
  },
  {
   "cell_type": "markdown",
   "id": "a817cefe-14a4-4153-86dd-87f17ccc136a",
   "metadata": {},
   "source": [
    "Qu'en pensez-vous ? Comment pourrions nous mieux observer le phénomène que vous décrivez ?"
   ]
  },
  {
   "cell_type": "code",
   "execution_count": 1,
   "id": "5d80a264-6ce8-41d9-adc0-ba9d1760ef3d",
   "metadata": {},
   "outputs": [],
   "source": [
    "# importer le module"
   ]
  },
  {
   "cell_type": "code",
   "execution_count": 2,
   "id": "6fb08c4d-f556-4bba-8c24-db43eabbc41a",
   "metadata": {},
   "outputs": [],
   "source": [
    "# faites afficher"
   ]
  },
  {
   "cell_type": "code",
   "execution_count": 3,
   "id": "b11961db-4075-492f-a069-b1eb13306c8a",
   "metadata": {},
   "outputs": [],
   "source": [
    "# recommencer l'affichage en retirant l'offset de la fréquence d'acquisition de 20ms"
   ]
  },
  {
   "cell_type": "code",
   "execution_count": null,
   "id": "8de81bdd-b4cf-4dd2-ab68-9e27e6ecfca2",
   "metadata": {
    "scrolled": true,
    "tags": []
   },
   "outputs": [],
   "source": [
    "# à quoi ressemble le contenu de 'reco_data'"
   ]
  },
  {
   "cell_type": "code",
   "execution_count": null,
   "id": "d6610540-789c-4837-adf7-396520f44bd2",
   "metadata": {},
   "outputs": [],
   "source": [
    "# à quoi ressemble le contenu de 'duree_essai'"
   ]
  },
  {
   "cell_type": "code",
   "execution_count": 4,
   "id": "41e75469-a53e-46dd-ae06-d3bd88832c9f",
   "metadata": {},
   "outputs": [],
   "source": [
    "# à quoi ressemble le contenu de 'force_level'"
   ]
  },
  {
   "cell_type": "markdown",
   "id": "45e9d0d1-1dde-4f7e-be25-1c7f3e6b71d0",
   "metadata": {},
   "source": [
    "L'étape suivante consiste à construire deux dataframes à partir de l'ensemble des données. Nous allons poursuivre en format script."
   ]
  },
  {
   "cell_type": "code",
   "execution_count": null,
   "id": "7c9aabe6-10f8-4ccb-8436-36e1d9996caf",
   "metadata": {},
   "outputs": [],
   "source": [
    "!jupyter nbconvert --to script 1_orga_des_datas.ipynb"
   ]
  }
 ],
 "metadata": {
  "kernelspec": {
   "display_name": "Python 3 (ipykernel)",
   "language": "python",
   "name": "python3"
  },
  "language_info": {
   "codemirror_mode": {
    "name": "ipython",
    "version": 3
   },
   "file_extension": ".py",
   "mimetype": "text/x-python",
   "name": "python",
   "nbconvert_exporter": "python",
   "pygments_lexer": "ipython3",
   "version": "3.9.7"
  }
 },
 "nbformat": 4,
 "nbformat_minor": 5
}
