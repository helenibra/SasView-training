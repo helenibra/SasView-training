{
 "cells": [
  {
   "cell_type": "markdown",
   "id": "1f2503f7-ac52-40d7-a209-eafecc0febee",
   "metadata": {},
   "source": [
    "1 - Objectif de cette session\n",
    "=============================\n",
    "\n",
    "Nous avons tous validé la configuration de notre PC et la communication avec le GitLab de l'Université de Bordeaux.\n",
    "\n",
    "N'oubliez pas de notifier votre présence sur https://lite.framacalc.org/9qj0-7f3xukljcw"
   ]
  },
  {
   "cell_type": "markdown",
   "id": "c0512617-9ccd-4479-a428-8fd99054039a",
   "metadata": {},
   "source": [
    "Notre but de cette première session est de convertir notre jeu de données en DataFrame !"
   ]
  },
  {
   "cell_type": "markdown",
   "id": "02a043ca-b299-43f7-82b6-a45f976a84b0",
   "metadata": {},
   "source": [
    "1 - 1 DataFrame\n",
    "===============\n",
    "\n",
    "Un DataFrame est un tableau de données. Cette organisation de la donnée va nous permettre d'utiliser un outil très puissant. Il s'agit de `pandas`. \n",
    "\n",
    "`Pandas` est un package Python très puissant et incontrounable du Data Scientist aujourd'hui. Certains Geek seront plus sceptiques à la surcouche et resteront en `numpy`."
   ]
  },
  {
   "cell_type": "code",
   "execution_count": 1,
   "id": "5023e307-2ef6-4152-891a-26626b5badfc",
   "metadata": {
    "jupyter": {
     "source_hidden": true
    },
    "tags": []
   },
   "outputs": [
    {
     "data": {
      "text/html": [
       "<iframe width='100%' height='350'\n",
       "src=\"https://pandas.pydata.org/docs/reference/general_functions.html\">\n",
       "</iframe>\n"
      ],
      "text/plain": [
       "<IPython.core.display.HTML object>"
      ]
     },
     "metadata": {},
     "output_type": "display_data"
    }
   ],
   "source": [
    "%%html\n",
    "<iframe width='100%' height='350'\n",
    "src=\"https://pandas.pydata.org/docs/reference/general_functions.html\">\n",
    "</iframe>"
   ]
  },
  {
   "cell_type": "code",
   "execution_count": 2,
   "id": "3dbeef16-d9cc-4844-a17a-fac04ef40626",
   "metadata": {
    "jupyter": {
     "source_hidden": true
    },
    "tags": []
   },
   "outputs": [
    {
     "data": {
      "text/html": [
       "<iframe width='100%' height='350'\n",
       "src=\"https://seaborn.pydata.org/examples/scatterplot_matrix.html\">\n",
       "</iframe>\n"
      ],
      "text/plain": [
       "<IPython.core.display.HTML object>"
      ]
     },
     "metadata": {},
     "output_type": "display_data"
    }
   ],
   "source": [
    "%%html\n",
    "<iframe width='100%' height='350'\n",
    "src=\"https://seaborn.pydata.org/examples/scatterplot_matrix.html\">\n",
    "</iframe>"
   ]
  },
  {
   "cell_type": "markdown",
   "id": "3fb1aeb7-bf84-4819-9387-007361e4d6fa",
   "metadata": {},
   "source": [
    "__Quels avantages offrent cette organisation de la donnée ?__\n",
    "\n",
    "Je pense qu'il a été récupéré de la philosophie de nos collègues R addict mais chut, nous leur dirons que c'est R qui a copié sur nous à la dernière session ;) Je compte sur vous pour votre soutien !\n",
    "\n",
    "Vous l'aurez peut-être deviné, cette organisation est un moyen et le plus intelligent à mener entre R et Python. Et oui, nous nous devons de démontrer que R est devenu obsolète et qu'il n'existe que par son histoire.\n",
    "\n",
    "Des sources très intéressantes que je vous laisserai découvrir à ce sujet plus sérieux qu'est le DataFrame :\n",
    "\n",
    "https://pandas.pydata.org/docs/getting_started/comparison/comparison_with_r.html\n",
    "\n",
    "https://pandas.pydata.org/docs/user_guide/io.html#io-external-compatibility"
   ]
  },
  {
   "cell_type": "markdown",
   "id": "f83c1f2f-a1a7-436a-9d54-b8f7c02a5c28",
   "metadata": {},
   "source": [
    "Avant d'aller plus loin sur ce qu'on est capable de faire avec un DataFrame, commençons par le construire.\n",
    "\n",
    "__Quelles sont les étapes que vous imagineriez ?__\n",
    "\n",
    "Pour vous aider, nous partons du dossier _data/ALL_DATA_"
   ]
  },
  {
   "cell_type": "markdown",
   "id": "ca66b122-3a8f-45d2-9a8d-c5d754b9352a",
   "metadata": {},
   "source": [
    "- 1 : identifier le chemin où sont les données\n",
    "- 2 : lecture des contenus\n",
    "- 3 : création du dataframe (ajout de données ou une création en une fois)"
   ]
  }
 ],
 "metadata": {
  "kernelspec": {
   "display_name": "Python 3 (ipykernel)",
   "language": "python",
   "name": "python3"
  },
  "language_info": {
   "codemirror_mode": {
    "name": "ipython",
    "version": 3
   },
   "file_extension": ".py",
   "mimetype": "text/x-python",
   "name": "python",
   "nbconvert_exporter": "python",
   "pygments_lexer": "ipython3",
   "version": "3.9.7"
  }
 },
 "nbformat": 4,
 "nbformat_minor": 5
}
