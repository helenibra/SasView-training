{
 "cells": [
  {
   "cell_type": "markdown",
   "id": "00e5affc-78e3-4de9-b09d-80082bbdc80e",
   "metadata": {},
   "source": [
    "# Lecture et visualisation rapide et validation des dataframe"
   ]
  },
  {
   "cell_type": "code",
   "execution_count": null,
   "id": "9a59fe53-49f7-4402-a674-d26bd125c24f",
   "metadata": {},
   "outputs": [],
   "source": [
    "# cahrgeons les modules et packages python nécessaire\n",
    "import os\n",
    "from matplotlib import pyplot as plt\n",
    "import numpy as np\n",
    "import pandas as pd\n",
    "import seaborn as sns"
   ]
  },
  {
   "cell_type": "markdown",
   "id": "a06f5cde-1239-490f-8227-78bdc1eff54b",
   "metadata": {},
   "source": [
    "exécutons votre script"
   ]
  },
  {
   "cell_type": "code",
   "execution_count": null,
   "id": "b29a0543-fc0b-47c1-af4a-3bcd5e8ae565",
   "metadata": {
    "scrolled": true,
    "tags": []
   },
   "outputs": [],
   "source": [
    "%run create_dataframe.py"
   ]
  },
  {
   "cell_type": "markdown",
   "id": "f9821fa8-33ee-4b45-a50a-3a92c5ffbd48",
   "metadata": {},
   "source": [
    "Commençons par lire le fichier _data_nb_points.csv_"
   ]
  },
  {
   "cell_type": "code",
   "execution_count": null,
   "id": "9f09be52-5b4c-4b39-933d-a647dcf3c48e",
   "metadata": {},
   "outputs": [],
   "source": [
    "# à vous"
   ]
  },
  {
   "cell_type": "markdown",
   "id": "40ba759a-6b3e-400a-bbd4-864c46ce29c0",
   "metadata": {},
   "source": [
    "Nous allons observer la répartition des points avec une carte de chaleur du module Seaborn : https://seaborn.pydata.org/examples/spreadsheet_heatmap.html"
   ]
  },
  {
   "cell_type": "code",
   "execution_count": null,
   "id": "49238981-51a9-49c3-9a2e-2d2fed3a374d",
   "metadata": {},
   "outputs": [],
   "source": [
    "DATA_NB_PTS = pd.pivot_table(DATA_NB_POINTS,\n",
    "                             values='nb_points',\n",
    "                             index=['name'],\n",
    "                             columns=['num_essai'])\n",
    "DATA_NB_PTS"
   ]
  },
  {
   "cell_type": "code",
   "execution_count": null,
   "id": "512d158b-5dda-48c9-a299-502568ab6a06",
   "metadata": {},
   "outputs": [],
   "source": [
    "f, ax = plt.subplots(figsize=(25, 15))\n",
    "sns.heatmap(DATA_NB_PTS, annot=True, linewidths=.5, ax=ax);"
   ]
  },
  {
   "cell_type": "markdown",
   "id": "50f0bd4d-3f74-42aa-9963-11c98eacb9b7",
   "metadata": {},
   "source": [
    "Nous retrouvons clairement la distinction des essais lors de la phase d'entrainement et lors de la phase de test.\n",
    "Nous nous attendons à 3000 points pour les essais en phase d'entrainement.\n",
    "\n",
    "Affichez la carte de chaleur pour les 12 premiers essais des différences à 3000 points attendus."
   ]
  },
  {
   "cell_type": "code",
   "execution_count": null,
   "id": "2cb4c57b-3169-4b94-a626-28bd0c7d97e9",
   "metadata": {
    "tags": []
   },
   "outputs": [],
   "source": [
    "NB_POINTS_ENT = ... # regarder la méthode apply sur dataframe\n",
    "NB_POINTS_ENT.head()"
   ]
  },
  {
   "cell_type": "markdown",
   "id": "02bf63aa-89d5-484e-8217-23b0ca4d1baf",
   "metadata": {},
   "source": [
    "Appliquons de même la méthode pivot_table puis affichons la carte de chaleur"
   ]
  },
  {
   "cell_type": "code",
   "execution_count": null,
   "id": "14f3528e-2314-4170-a374-7d571453557c",
   "metadata": {},
   "outputs": [],
   "source": [
    "NB_PTS_ENT = pd.pivot_table(NB_POINTS_ENT,\n",
    "                             values='nb_points',\n",
    "                             index=['name'],\n",
    "                             columns=['num_essai'])\n",
    "f, ax = plt.subplots(figsize=(25, 15))\n",
    "sns.heatmap(NB_PTS_ENT, annot=True, linewidths=.5, ax=ax);"
   ]
  },
  {
   "cell_type": "markdown",
   "id": "a47194c6-4118-4f49-8c5e-19b3671ba7ed",
   "metadata": {},
   "source": [
    "Faites de même pour le nombre de points lors de la phase de test pour lequel nous attendons 7500 points. "
   ]
  },
  {
   "cell_type": "code",
   "execution_count": null,
   "id": "5539dbb4-9786-4daa-97a2-6d8cd3f81734",
   "metadata": {
    "tags": []
   },
   "outputs": [],
   "source": [
    "NB_POINTS_TEST = ...\n",
    "NB_PTS_TEST = pd.pivot_table(...)\n",
    "f, ax = plt.subplots(figsize=(25, 15))\n",
    "sns.heatmap(NB_PTS_TEST, annot=True, linewidths=.5, ax=ax);"
   ]
  },
  {
   "cell_type": "markdown",
   "id": "823d77a2-7ee6-45c0-942e-1976ea389ecd",
   "metadata": {},
   "source": [
    "Que pouvons-nous en conclure ?"
   ]
  },
  {
   "cell_type": "markdown",
   "id": "4619569e-2a94-4207-bcc1-bde1b514a672",
   "metadata": {},
   "source": [
    "Regardons maintenant le contrebalancement des sujets et qui sont-ils ?\n",
    "\n",
    "Pour ce faire :\n",
    "- Chargez le fichier data_static.zip\n",
    "- Affichez le nom des sujets pour chaque cas\n",
    "- Affichez leur nombre"
   ]
  },
  {
   "cell_type": "code",
   "execution_count": null,
   "id": "461be8b2-1f81-4d92-ba03-b35c409fc57a",
   "metadata": {
    "tags": []
   },
   "outputs": [],
   "source": [
    "DATA_STATIC = pd.read_csv(\"data_static.zip\", index_col=0)\n",
    "print('sujets commençant par \"pe\" en contrôle \"pos\"')\n",
    "print(...)\n",
    "print(...)\n",
    "print('-------------')\n",
    "print('sujets commençant par \"pc\" en contrôle \"pos\"')\n",
    "print(...)\n",
    "print(...)\n",
    "print('-------------')\n",
    "print('sujets commençant par \"pe\" en contrôle \"vit\"')\n",
    "print(...)\n",
    "print(...)\n",
    "print('-------------')\n",
    "print('sujets commençant par \"pc\" en contrôle \"vit\"')\n",
    "print(...)\n",
    "print(...)"
   ]
  },
  {
   "cell_type": "markdown",
   "id": "c5e53023-aca5-45a0-afaa-3a24355fe200",
   "metadata": {},
   "source": [
    "Nous reviendrons plus tard sur ce dataframe. Observons plutôt les fichiers qui nous demande attention.\n",
    "\n",
    "Pour ce faire, chargeons les données du dataframe _data_tempo.zip_"
   ]
  },
  {
   "cell_type": "code",
   "execution_count": null,
   "id": "485083b6-5770-4a37-9b5b-f904ed5b2b0f",
   "metadata": {},
   "outputs": [],
   "source": [
    "DATA_TEMPO = pd.read_csv(\"data_tempo.zip\", index_col=0)"
   ]
  },
  {
   "cell_type": "markdown",
   "id": "4f5ad09a-8716-4660-82b7-53e3d73532b2",
   "metadata": {},
   "source": [
    "Je vous propose d'observer de manière interactive l'ensemble des fichiers. Nous aurons besoin principalement du module ipywidgets : https://ipywidgets.readthedocs.io/en/stable/examples/Using%20Interact.html"
   ]
  },
  {
   "cell_type": "code",
   "execution_count": null,
   "id": "fd03d569-3dab-4bfc-8615-16a1e9fe7c2c",
   "metadata": {},
   "outputs": [],
   "source": [
    "from ipywidgets import interact\n",
    "from ipywidgets import interactive\n",
    "from ipywidgets import fixed\n",
    "from ipywidgets import interact_manual\n",
    "\n",
    "import ipywidgets as widgets\n",
    "\n",
    "from matplotlib import pyplot as plt\n",
    "import matplotlib as mpl\n",
    "mpl.rcParams['xtick.major.size'] = 6.0"
   ]
  },
  {
   "cell_type": "code",
   "execution_count": null,
   "id": "f21994a0-fff1-4df9-85d3-3d4c85847754",
   "metadata": {},
   "outputs": [],
   "source": [
    "# création des sliders pour modifier\n",
    "num_sujet = widgets.IntSlider(min=1, max=22, step=1,\n",
    "                              value=1,\n",
    "                              description='num_sujet')\n",
    "\n",
    "# les bornes du graphiques\n",
    "num_essai = widgets.IntSlider(min=0, max=19, step=1,\n",
    "                              value=0,\n",
    "                              description='num_essai')\n",
    "\n",
    "# agencement des sliders\n",
    "ui = widgets.HBox([num_sujet, num_essai])\n",
    "\n",
    "def update_plot(pos_ct, time, num_essai, pos_ct_interp):\n",
    "    '''\n",
    "    maj plot\n",
    "    '''\n",
    "    nb_point = 3000 if num_essai < 12 else 7500\n",
    "    duree = 90 if num_essai < 12 else 150\n",
    "    ma_fig = plt.figure(figsize=(20, 16))\n",
    "    plt.subplot(321)\n",
    "    plt.plot(pos_ct[1:])\n",
    "    plt.xlim([0, nb_point])\n",
    "    plt.subplot(323)\n",
    "    plt.plot(time[1:], pos_ct[1:])\n",
    "    plt.xlim([time[1], time[-1]])\n",
    "    plt.subplot(325)\n",
    "    plt.plot(pos_ct_interp.values)\n",
    "    plt.xlim([0, nb_point])\n",
    "    plt.subplot(322)\n",
    "    v_theo = np.diff(np.array(pos_ct[1:])) / 0.02\n",
    "    v_pratique = np.diff(np.array(pos_ct[1:])) / np.diff(np.array(time[1:]))\n",
    "    plt.xlim([0, nb_point])\n",
    "    plt.plot(v_pratique - v_theo, 'r')\n",
    "    plt.ylim([-500, 500])\n",
    "    plt.subplot(324)\n",
    "    plt.plot(np.diff(np.array(time)))\n",
    "    plt.xlim([0, nb_point])\n",
    "    plt.subplot(326)\n",
    "    v_interp = np.diff(pos_ct_interp.dropna().values[1:]) / 0.02\n",
    "    plt.plot(v_interp[:len(v_theo)] - v_theo, 'r')\n",
    "    plt.xlim([0, nb_point])\n",
    "    plt.ylim([-500, 500])\n",
    "    return ma_fig\n",
    "\n",
    "def visualisation_pos_ct(num_sujet=1, num_essai=0):\n",
    "    \"\"\"\n",
    "    mu est la moyenne\n",
    "    sigma est l'erreur standard\n",
    "    tps_s est la durée du signal\n",
    "    fe est la fréquence d'échantillonage\n",
    "    \"\"\"\n",
    "    essai = !ls ../../data/ALL_DATA/sujet{num_sujet}/*_{num_essai}.json\n",
    "    with open(essai[0], 'r') as fnm:\n",
    "        contenu = json.load(fnm)\n",
    "    update_plot(contenu['pos_ct'],\n",
    "                contenu['routine_time'],\n",
    "                num_essai,\n",
    "                DATA_TEMPO['pos_ct_' + os.path.basename(essai[0])[:-5]])\n",
    "\n",
    "out = widgets.interactive_output(visualisation_pos_ct, {'num_sujet': num_sujet,\n",
    "                                                        'num_essai': num_essai})\n",
    "\n",
    "display(ui, out)"
   ]
  },
  {
   "cell_type": "markdown",
   "id": "a14b3d9c-03d8-4922-8a34-fcf216a202ad",
   "metadata": {},
   "source": [
    "Qu'en dites vous ? On garde, on ne garde pas ? On supprime l'essai qui dérange, on supprime le sujet ?"
   ]
  },
  {
   "cell_type": "markdown",
   "id": "ecbde65f-516b-4976-b5df-d4ce5b123eb7",
   "metadata": {},
   "source": [
    "## Chargeons nos deux DataFrame et observons leurs contenus\n",
    "\n",
    "Commençons par DATA_TEMPO qui est déjà chargé"
   ]
  },
  {
   "cell_type": "code",
   "execution_count": null,
   "id": "aa4c1c34-d97e-4c61-8892-3eb1f5fb5bbc",
   "metadata": {
    "tags": []
   },
   "outputs": [],
   "source": [
    "DATA_TEMPO"
   ]
  },
  {
   "cell_type": "markdown",
   "id": "fcdd3270-175d-437b-9c5a-7f4065f124aa",
   "metadata": {},
   "source": [
    "Nous remarquons que tous les essais ne sont pas de la même durée. Nous savons que les essais en phase d'entrainement ne durent qu'une minute et que les essais en phase de test durent 2min30.\n",
    "\n",
    "Première étape, regardons les colonnes dédiées à l'entrainement et supprimons les lignes dans lesquelles nous y avons des np.nan."
   ]
  },
  {
   "cell_type": "code",
   "execution_count": null,
   "id": "bd48b4b4-b89d-473a-87ca-3f6f35aa3451",
   "metadata": {},
   "outputs": [],
   "source": [
    "DATA_TEMPO_ENT = DATA_TEMPO.filter(regex='ent').dropna()\n",
    "DATA_TEMPO_ENT"
   ]
  },
  {
   "cell_type": "markdown",
   "id": "713a5ae3-db19-4eca-9027-1c79e09726e8",
   "metadata": {},
   "source": [
    "Commençant à 0ms, il est normal que nous obtenions une fin à 59,980s.\n",
    "Nous pouvons toutefois s'assurer qu'aucune itération n'a été éliminée en validant que 3000 iterations de 20ms correspond bien à notre index."
   ]
  },
  {
   "cell_type": "code",
   "execution_count": null,
   "id": "7b75a5b3-0d49-4198-8c79-d1eba9f69f7f",
   "metadata": {},
   "outputs": [],
   "source": [
    "pd.date_range(start='7/1/2021', periods=3000, freq='20ms')"
   ]
  },
  {
   "cell_type": "markdown",
   "id": "2dd856a6-c8ca-4952-8bdf-334ca8feec20",
   "metadata": {},
   "source": [
    "Nous pouvons réaliser la même chose pour la phase de test."
   ]
  },
  {
   "cell_type": "code",
   "execution_count": null,
   "id": "b32d1c0b-832c-4d9d-a841-d836750908ce",
   "metadata": {},
   "outputs": [],
   "source": [
    "DATA_TEMPO_TEST = ...\n",
    "DATA_TEMPO_TEST"
   ]
  },
  {
   "cell_type": "code",
   "execution_count": null,
   "id": "f7a4e2bb-e959-46ef-a9b1-dfd93c2ec3f2",
   "metadata": {},
   "outputs": [],
   "source": [
    "pd.date_range(...)"
   ]
  },
  {
   "cell_type": "markdown",
   "id": "4af4e068-81a8-4477-b6d2-83523bee2000",
   "metadata": {},
   "source": [
    "Nous n'avons pas les 2min30 escomptées mais 2min 29,96 secondes."
   ]
  },
  {
   "cell_type": "markdown",
   "id": "133a210e-e40d-45bf-ad1b-e20521ef5037",
   "metadata": {},
   "source": [
    "Sur la base de ces deux clarifications, nous pouvons reconstruire un DATA_TEMPO plus homogène à travers tous les essais.\n",
    "\n",
    "- Utiliser la méthode \"join\" et regarder l'option \"how\""
   ]
  },
  {
   "cell_type": "code",
   "execution_count": null,
   "id": "54ae0a03-2eac-4676-8111-1acce3095758",
   "metadata": {},
   "outputs": [],
   "source": [
    "DATA_TEMPO = ...\n",
    "DATA_TEMPO"
   ]
  },
  {
   "cell_type": "markdown",
   "id": "92077922-9d85-4a13-80f2-4e83f6e886dc",
   "metadata": {},
   "source": [
    "Il nous reste plus qu'à regarder si la colonne fb_err_* est bien la différence entre reco_data_* - pos_ct_* à chaque instant. C'est `fb_err` qui était présenté en poursuite d'erreur. `fb_err`était à annuler.\n",
    "\n",
    "$$ fbErr_i = recoData_i - posCt_{i}$$"
   ]
  },
  {
   "cell_type": "code",
   "execution_count": null,
   "id": "57078885-8af9-4686-8fc2-bec98879bf1b",
   "metadata": {
    "scrolled": true,
    "tags": []
   },
   "outputs": [],
   "source": [
    "# extraire les noms des colonnes au format list où le mot clé fb_err est présent\n",
    "fb_err = ...\n",
    "fb_err"
   ]
  },
  {
   "cell_type": "code",
   "execution_count": null,
   "id": "8fc42b2e-463e-4fa8-830b-61c8a0de7ee8",
   "metadata": {
    "tags": []
   },
   "outputs": [],
   "source": [
    "# tester l'agalité entre les colonnes dont le nom contient \"fb_err\" et la soustraction des colonnes associées à \"reco_data\" - \"pos_ct\"\n",
    "..."
   ]
  },
  {
   "cell_type": "markdown",
   "id": "37c8c1ce-c216-4339-86d0-6116e535659b",
   "metadata": {},
   "source": [
    "La différence ne semble pas constament égale ! Comment est-ce possible ?"
   ]
  },
  {
   "cell_type": "code",
   "execution_count": null,
   "id": "82d8ea97-c2eb-43a5-bc36-7e2122905da5",
   "metadata": {},
   "outputs": [],
   "source": [
    "# Au lieu de tester l'égalité regardons la différence !\n",
    "..."
   ]
  },
  {
   "cell_type": "markdown",
   "id": "e1b365bb-bc53-4544-bc77-2f6985c3e939",
   "metadata": {},
   "source": [
    "C'est peut-être pas égale mais la différence est à 10e-14 ou c'est quand il y a des np.nan !\n",
    "Calculons la différence en prenant en compte une tolérance et les Not A Number grâce à la méthode `allclose` de numpy."
   ]
  },
  {
   "cell_type": "code",
   "execution_count": null,
   "id": "62c29a2d-445b-4483-8357-053de590fafe",
   "metadata": {
    "tags": []
   },
   "outputs": [],
   "source": [
    "..."
   ]
  },
  {
   "cell_type": "code",
   "execution_count": null,
   "id": "511786ed-12e8-494c-908a-8d17b74e9cc6",
   "metadata": {
    "jupyter": {
     "source_hidden": true
    },
    "scrolled": true,
    "tags": []
   },
   "outputs": [],
   "source": [
    "for each_fb_err in fb_err:\n",
    "    each_reco_data = each_fb_err.replace('fb_err', 'reco_data')\n",
    "    each_pos_ct = each_fb_err.replace('fb_err', 'pos_ct')\n",
    "    print(np.allclose(DATA_TEMPO[each_fb_err], DATA_TEMPO[each_reco_data] - DATA_TEMPO[each_pos_ct],\n",
    "                      equal_nan=True))"
   ]
  },
  {
   "cell_type": "code",
   "execution_count": null,
   "id": "91f747fa-af38-4750-925d-07cd1917eb90",
   "metadata": {
    "jupyter": {
     "source_hidden": true
    },
    "tags": []
   },
   "outputs": [],
   "source": [
    "list(filter(lambda x: not np.allclose(DATA_TEMPO[x],\n",
    "                                      (DATA_TEMPO[x.replace('fb_err', 'reco_data')] -\n",
    "                                       DATA_TEMPO[x.replace('fb_err', 'pos_ct')]),\n",
    "                                      equal_nan=True),\n",
    "            fb_err))"
   ]
  },
  {
   "cell_type": "markdown",
   "id": "5f079179-94bf-48d7-aefd-2a30a365972e",
   "metadata": {},
   "source": [
    "C'est validé ! Notre Dataframe est prêt à nous aider pour la suite.\n",
    "\n",
    "Regardons maintenant notre second dataframe."
   ]
  },
  {
   "cell_type": "markdown",
   "id": "9c15a2d7-2c3f-4252-9323-91ba5f3738a3",
   "metadata": {},
   "source": [
    "## Data Static"
   ]
  },
  {
   "cell_type": "code",
   "execution_count": null,
   "id": "65609420-2108-47af-bf7a-0aa7a4fc64fa",
   "metadata": {},
   "outputs": [],
   "source": [
    "#Charger en mémoir en mémoire data_static\n",
    "DATA_STATIC = ...\n",
    "DATA_STATIC"
   ]
  },
  {
   "cell_type": "markdown",
   "id": "3d982e08-fcb0-49ef-8225-0dd2ad2b948b",
   "metadata": {},
   "source": [
    "Combien de sujets avons-nous ? Combien de sujets ont réalisés les modes de contrôle position et vitesse ?\n",
    "\n",
    "- Utiliser la méthode unique"
   ]
  },
  {
   "cell_type": "code",
   "execution_count": null,
   "id": "8ec0e83c-528c-4306-8743-c63d74f510de",
   "metadata": {},
   "outputs": [],
   "source": [
    "NB_SUJET_CTRL_POS = ...\n",
    "NB_SUJET_CTRL_VIT = ...\n",
    "print(f'le nombre de sujet est de : {len(DATA_STATIC.name.unique())}')\n",
    "print(f'le nombre de sujet pour le mode contrôle position est de : {NB_SUJET_CTRL_POS}')\n",
    "print(f'le nombre de sujet pour le mode contrôle vitesse est de : {NB_SUJET_CTRL_VIT}')"
   ]
  },
  {
   "cell_type": "markdown",
   "id": "ecbc25ee-47b9-4acc-afed-85a1a47949b2",
   "metadata": {},
   "source": [
    "Les sujets ont dus tous forcer et travailler à 22% de leur force maximale. La force des sujets est-elle bien répartie sur ces deux modes de contrôle ?"
   ]
  },
  {
   "cell_type": "code",
   "execution_count": null,
   "id": "d982ee9d-4c77-43d3-be41-5657319c6258",
   "metadata": {},
   "outputs": [],
   "source": [
    "# visualisation de la distribution du 22%MVF en fonction des sujets qui ont participé en contrôle position vs contrôle vitesse\n",
    "REDUCE_DATA = DATA_STATIC[...]  # ne récupérons que les colonnes qui nous intéressent name, ctrl et force_level\n",
    "UNIQUE_REDUCE_DATA = ...  # retire les duplication\n",
    "\n",
    "plt.figure(figsize=(15, 7))\n",
    "...  # trouver un plot dans la gallerie du module seaborn qui pourrait être une bonne représentation\n",
    "plt.show()"
   ]
  },
  {
   "cell_type": "markdown",
   "id": "8e22d3ea-82b1-4146-abe7-e304843352f3",
   "metadata": {},
   "source": [
    "Qu'en pensez-vous ?\n",
    "\n",
    "Continuons d'explorer et appliquons la fonction de description de notre DataFrame et observons"
   ]
  },
  {
   "cell_type": "code",
   "execution_count": null,
   "id": "c2d24aa6-fa79-4cd5-871f-5ef3245f1c68",
   "metadata": {},
   "outputs": [],
   "source": [
    "DATA_STATIC.describe()"
   ]
  },
  {
   "cell_type": "markdown",
   "id": "b9ed4b92-d280-4a0b-9b5c-724a8e1c721a",
   "metadata": {},
   "source": [
    "Cette méthode `describe` ne s'applique que sur des colonnes à données numériques.  \n",
    "La colonne `num_essai` ou `cutoff` n'a pas de sens ici. Nous aurions dû traiter ces deux colonnes comme des paramètres au format chaine de caractères.  \n",
    "La colonne `force_level` et `percent_err` nous donne des informations à travers tous les sujets de toutes les conditions."
   ]
  },
  {
   "cell_type": "code",
   "execution_count": null,
   "id": "b3154656-ea84-47a5-b031-7bab9e5ce436",
   "metadata": {},
   "outputs": [],
   "source": [
    "DATA_STATIC['num_essai'] = DATA_STATIC['num_essai']  # appliquer sur cette colonne la méthode de conversion en chaine de caractère\n",
    "DATA_STATIC['cutoff'] = DATA_STATIC['cutoff']  # faites de même"
   ]
  },
  {
   "cell_type": "code",
   "execution_count": null,
   "id": "f94daed8-2b07-4fc3-bc49-77a52549d0bc",
   "metadata": {},
   "outputs": [],
   "source": [
    "# avons-nous bien travaillé ?\n",
    "DATA_STATIC.describe()"
   ]
  },
  {
   "cell_type": "markdown",
   "id": "fbb46369-fa23-4507-b37d-e97bb55b89e9",
   "metadata": {
    "tags": []
   },
   "source": [
    "# Remplacer num_essai et cutoff en chaine de caractère"
   ]
  },
  {
   "cell_type": "markdown",
   "id": "146da9f7-1f66-4491-a0c3-2f403521c995",
   "metadata": {},
   "source": [
    "Nous pouvons valider l'homogénéité des conditions à travers tous les sujets avant de commencer à les comparer.\n",
    "\n",
    "Ont-ils tous le même nombre d'essai ?  \n",
    "Ont-ils tous le même nombre d'essai `test` et `ent` ?  \n",
    "Ont-ils tous le même nombre d'essai aux différentes valeurs de fréquence de coupure ?  \n",
    "Ont-ils tous le même nombre d'essai en poursuite d'erreur `pe` et en poursuite de cible`pc` ?  "
   ]
  },
  {
   "cell_type": "code",
   "execution_count": null,
   "id": "40f7f0df-d15f-4113-8212-c6da0fb6e928",
   "metadata": {},
   "outputs": [],
   "source": [
    "# retrouvons nous les 22 sujets ?\n",
    "sorted(DATA_STATIC.name.unique())"
   ]
  },
  {
   "cell_type": "code",
   "execution_count": null,
   "id": "030a1a3f-6343-4486-80c4-41272d1c1bc0",
   "metadata": {},
   "outputs": [],
   "source": [
    "# retrouvons nous les 20 essais de 0 à 19\n",
    "..."
   ]
  },
  {
   "cell_type": "code",
   "execution_count": null,
   "id": "f5d95c0d-227c-4516-abde-6151f559798c",
   "metadata": {},
   "outputs": [],
   "source": [
    "# regarder la méthode \"value_counts\"\n",
    "..."
   ]
  },
  {
   "cell_type": "code",
   "execution_count": null,
   "id": "712929ed-ab7d-433c-805c-ed72c6e8dc54",
   "metadata": {},
   "outputs": [],
   "source": [
    "# Faites de même pour la phase de test\n",
    "..."
   ]
  },
  {
   "cell_type": "code",
   "execution_count": null,
   "id": "5fb265b4-a2d6-4449-94b7-0ea04efe2e0a",
   "metadata": {},
   "outputs": [],
   "source": [
    "# puis la phase d'entrainement\n",
    "..."
   ]
  },
  {
   "cell_type": "code",
   "execution_count": null,
   "id": "1febb4a4-c807-4f25-b85b-0ab625d1c0f6",
   "metadata": {},
   "outputs": [],
   "source": [
    "# ne pouvons-nous pas aller plus loin avec la comptabilisation par groupe ?\n",
    "# regarder la méthode count appliquée sur la méthode groupy\n",
    "DATA_STATIC.groupby(['cutoff']).count()"
   ]
  },
  {
   "cell_type": "code",
   "execution_count": null,
   "id": "9a4d575f-d769-4283-a0ad-1ae2973abaed",
   "metadata": {},
   "outputs": [],
   "source": [
    "# retrouver toutes les valeurs de force_level\n",
    "..."
   ]
  },
  {
   "cell_type": "code",
   "execution_count": null,
   "id": "527f6178-b653-46d0-9400-7867f2c2e0a0",
   "metadata": {},
   "outputs": [],
   "source": [
    "# appliquer la méthode count sur le groupe cutoff et phase\n",
    "..."
   ]
  },
  {
   "cell_type": "code",
   "execution_count": null,
   "id": "30ffdd2a-08ea-49c8-99d4-025a12fb522c",
   "metadata": {
    "tags": []
   },
   "outputs": [],
   "source": [
    "# appliquer la méthode count sur le groupe \"ctrl\", \"tracking\", \"phase\" et \"cutoff\"\n",
    "..."
   ]
  },
  {
   "cell_type": "markdown",
   "id": "990fc0e0-b9be-4610-afc6-35ba2b881d03",
   "metadata": {},
   "source": [
    "Il ne nous reste plus qu'à enregistrer nos nouveaux DataFrame nettoyés !"
   ]
  },
  {
   "cell_type": "code",
   "execution_count": null,
   "id": "bba9f459-46d3-43ec-a5b0-90036aa11ac8",
   "metadata": {},
   "outputs": [],
   "source": [
    "compression_opts = dict(method='zip',\n",
    "                        archive_name='data_static.csv')\n",
    "DATA_STATIC.to_csv(os.path.join('.', 'jour3', 'data_static.zip'),\n",
    "                   compression=compression_opts)\n",
    "\n",
    "compression_opts = dict(method='zip',\n",
    "                        archive_name='data_tempo.csv')\n",
    "DATA_TEMPO.to_csv(os.path.join('.', 'data_tempo.zip'),\n",
    "                   compression=compression_opts)"
   ]
  }
 ],
 "metadata": {
  "kernelspec": {
   "display_name": "Python 3 (ipykernel)",
   "language": "python",
   "name": "python3"
  },
  "language_info": {
   "codemirror_mode": {
    "name": "ipython",
    "version": 3
   },
   "file_extension": ".py",
   "mimetype": "text/x-python",
   "name": "python",
   "nbconvert_exporter": "python",
   "pygments_lexer": "ipython3",
   "version": "3.9.7"
  }
 },
 "nbformat": 4,
 "nbformat_minor": 5
}
